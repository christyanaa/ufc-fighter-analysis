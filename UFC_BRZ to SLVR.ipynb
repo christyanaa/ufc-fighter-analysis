{
 "cells": [
  {
   "cell_type": "markdown",
   "id": "ed280dc6-8e47-4c98-b3e1-2959c3f77ae4",
   "metadata": {},
   "source": [
    "# UFC FROM BRZ TO SLVR"
   ]
  },
  {
   "cell_type": "markdown",
   "id": "5cdeb220-8e29-4440-9f48-51e4db70b2f9",
   "metadata": {},
   "source": [
    "1) Imports and Initialize Spark Session"
   ]
  },
  {
   "cell_type": "code",
   "execution_count": 1,
   "id": "6782e60b-4b10-4db4-8237-b1b3a5150eeb",
   "metadata": {},
   "outputs": [],
   "source": [
    "#Import neccesary libraries\n",
    "from pyspark.sql.functions import col, sum\n",
    "from pyspark.sql.window import Window\n",
    "from pyspark.sql.functions import avg, col, when, count, expr\n",
    "from pyspark.ml.feature import StringIndexer, OneHotEncoder\n",
    "from pyspark.ml import Pipeline\n",
    "import matplotlib.pyplot as plt\n",
    "import seaborn as sns\n",
    "from pyspark.ml.feature import VectorAssembler\n",
    "from pyspark.ml.stat import Correlation\n",
    "from pyspark.sql.functions import regexp_extract, col, expr\n",
    "from pyspark.sql.functions import regexp_replace\n",
    "from pyspark.sql import functions as F"
   ]
  },
  {
   "cell_type": "code",
   "execution_count": 2,
   "id": "29c6c3e4-67c8-4e51-963c-20537220b7ea",
   "metadata": {},
   "outputs": [],
   "source": [
    "import pandas as pd\n",
    "pd.set_option('display.max_colwidth', None)\n",
    "import numpy as np\n",
    "np.bool = np.bool_\n",
    "#current notebook name\n",
    "notebook_name = __session__.replace('.ipynb','')[__session__.rfind('/')+1:] \n",
    "# HDFS base paths\n",
    "hdfs_lakehouse_base_path = 'hdfs://localhost:9000/lakehouse/'\n",
    "hdfs_warehouse_base_path = 'hdfs://localhost:9000/warehouse'"
   ]
  },
  {
   "cell_type": "code",
   "execution_count": 3,
   "id": "539bacab-a6f9-4b99-aac0-8a21d8103d74",
   "metadata": {},
   "outputs": [],
   "source": [
    "import os\n",
    "dependencies = [\"org.apache.spark:spark-avro_2.12:3.5.0\",\n",
    "                \"io.delta:delta-iceberg_2.12:3.0.0\"]\n",
    "os.environ['PYSPARK_SUBMIT_ARGS']= f\"--packages {','.join(dependencies)} pyspark-shell\"\n",
    "os.environ['PYARROW_IGNORE_TIMEZONE'] = 'true'"
   ]
  },
  {
   "cell_type": "code",
   "execution_count": 4,
   "id": "b97714c6-5e22-4475-a45f-22fdae1c62ed",
   "metadata": {},
   "outputs": [
    {
     "name": "stderr",
     "output_type": "stream",
     "text": [
      "24/12/16 01:24:45 WARN Utils: Your hostname, osbdet resolves to a loopback address: 127.0.0.1; using 10.0.2.15 instead (on interface enp0s1)\n",
      "24/12/16 01:24:45 WARN Utils: Set SPARK_LOCAL_IP if you need to bind to another address\n",
      "Ivy Default Cache set to: /home/osbdet/.ivy2/cache\n",
      "The jars for the packages stored in: /home/osbdet/.ivy2/jars\n",
      "org.apache.spark#spark-avro_2.12 added as a dependency\n",
      "io.delta#delta-iceberg_2.12 added as a dependency\n",
      ":: resolving dependencies :: org.apache.spark#spark-submit-parent-6b8a6ab8-a3ae-4cd7-b653-ac4b676444b3;1.0\n",
      "\tconfs: [default]\n",
      "\tfound org.apache.spark#spark-avro_2.12;3.5.0 in central\n",
      "\tfound org.tukaani#xz;1.9 in central\n"
     ]
    },
    {
     "name": "stdout",
     "output_type": "stream",
     "text": [
      ":: loading settings :: url = jar:file:/home/osbdet/.jupyter_venv/lib/python3.11/site-packages/pyspark/jars/ivy-2.5.1.jar!/org/apache/ivy/core/settings/ivysettings.xml\n"
     ]
    },
    {
     "name": "stderr",
     "output_type": "stream",
     "text": [
      "\tfound io.delta#delta-iceberg_2.12;3.0.0 in central\n",
      "\tfound io.delta#delta-spark_2.12;3.0.0 in central\n",
      "\tfound io.delta#delta-storage;3.0.0 in central\n",
      "\tfound org.antlr#antlr4-runtime;4.9.3 in central\n",
      "\tfound org.scala-lang.modules#scala-collection-compat_2.12;2.1.1 in central\n",
      "\tfound com.github.ben-manes.caffeine#caffeine;2.9.3 in central\n",
      "\tfound org.checkerframework#checker-qual;3.19.0 in central\n",
      "\tfound com.google.errorprone#error_prone_annotations;2.10.0 in central\n",
      ":: resolution report :: resolve 195ms :: artifacts dl 10ms\n",
      "\t:: modules in use:\n",
      "\tcom.github.ben-manes.caffeine#caffeine;2.9.3 from central in [default]\n",
      "\tcom.google.errorprone#error_prone_annotations;2.10.0 from central in [default]\n",
      "\tio.delta#delta-iceberg_2.12;3.0.0 from central in [default]\n",
      "\tio.delta#delta-spark_2.12;3.0.0 from central in [default]\n",
      "\tio.delta#delta-storage;3.0.0 from central in [default]\n",
      "\torg.antlr#antlr4-runtime;4.9.3 from central in [default]\n",
      "\torg.apache.spark#spark-avro_2.12;3.5.0 from central in [default]\n",
      "\torg.checkerframework#checker-qual;3.19.0 from central in [default]\n",
      "\torg.scala-lang.modules#scala-collection-compat_2.12;2.1.1 from central in [default]\n",
      "\torg.tukaani#xz;1.9 from central in [default]\n",
      "\t---------------------------------------------------------------------\n",
      "\t|                  |            modules            ||   artifacts   |\n",
      "\t|       conf       | number| search|dwnlded|evicted|| number|dwnlded|\n",
      "\t---------------------------------------------------------------------\n",
      "\t|      default     |   10  |   0   |   0   |   0   ||   10  |   0   |\n",
      "\t---------------------------------------------------------------------\n",
      ":: retrieving :: org.apache.spark#spark-submit-parent-6b8a6ab8-a3ae-4cd7-b653-ac4b676444b3\n",
      "\tconfs: [default]\n",
      "\t0 artifacts copied, 10 already retrieved (0kB/5ms)\n",
      "24/12/16 01:24:46 WARN NativeCodeLoader: Unable to load native-hadoop library for your platform... using builtin-java classes where applicable\n",
      "Setting default log level to \"WARN\".\n",
      "To adjust logging level use sc.setLogLevel(newLevel). For SparkR, use setLogLevel(newLevel).\n",
      "Setting Spark log level to \"ERROR\".\n"
     ]
    }
   ],
   "source": [
    "from pyspark.sql.session import SparkSession\n",
    "\n",
    "spark = (SparkSession.builder\n",
    "    .appName(notebook_name)\n",
    "    .config(\"spark.log.level\",\"ERROR\")\n",
    "    .config(\"spark.sql.warehouse.dir\",hdfs_warehouse_base_path)\n",
    "    .config(\"spark.sql.extensions\", \"io.delta.sql.DeltaSparkSessionExtension\")\n",
    "    .config(\"spark.sql.catalog.spark_catalog\", \"org.apache.spark.sql.delta.catalog.DeltaCatalog\")\n",
    "    .enableHiveSupport()\n",
    "    .getOrCreate()\n",
    ")"
   ]
  },
  {
   "cell_type": "markdown",
   "id": "1a1ffb5d-ec32-43aa-9755-a7b1a0cc733a",
   "metadata": {},
   "source": [
    "2. Load and Understand Datasets"
   ]
  },
  {
   "cell_type": "code",
   "execution_count": 5,
   "id": "d257c0a1-2bb6-4d24-b62f-6364ede5fd0e",
   "metadata": {},
   "outputs": [],
   "source": [
    "#fighters\n",
    "fighters_df = (spark.read\n",
    "              .option(\"header\",\"true\")\n",
    "              .option(\"inferSchema\", \"true\")\n",
    "              .csv(f\"{hdfs_lakehouse_base_path}/bronze/UFC/UFC-fighters\"))"
   ]
  },
  {
   "cell_type": "code",
   "execution_count": 6,
   "id": "bc41e450-a921-436f-a735-5ee4f1eeec85",
   "metadata": {},
   "outputs": [
    {
     "name": "stdout",
     "output_type": "stream",
     "text": [
      "root\n",
      " |-- url: string (nullable = true)\n",
      " |-- fighter_name: string (nullable = true)\n",
      " |-- nickname: string (nullable = true)\n",
      " |-- birth_date: string (nullable = true)\n",
      " |-- age: integer (nullable = true)\n",
      " |-- death_date: string (nullable = true)\n",
      " |-- location: string (nullable = true)\n",
      " |-- country: string (nullable = true)\n",
      " |-- height: string (nullable = true)\n",
      " |-- weight: string (nullable = true)\n",
      " |-- association: string (nullable = true)\n",
      " |-- weight_class: string (nullable = true)\n",
      " |-- wins: integer (nullable = true)\n",
      " |-- wins_ko: integer (nullable = true)\n",
      " |-- wins_submission: integer (nullable = true)\n",
      " |-- wins_decision: integer (nullable = true)\n",
      " |-- wins_other: integer (nullable = true)\n",
      " |-- lossess: integer (nullable = true)\n",
      " |-- losses_ko: integer (nullable = true)\n",
      " |-- losses_submission: integer (nullable = true)\n",
      " |-- losses_decision: integer (nullable = true)\n",
      " |-- losses_other: integer (nullable = true)\n",
      "\n"
     ]
    }
   ],
   "source": [
    "fighters_df.printSchema()"
   ]
  },
  {
   "cell_type": "code",
   "execution_count": 6,
   "id": "f0f9b479-4e1c-4dba-84a5-9f5b564ce2fe",
   "metadata": {},
   "outputs": [
    {
     "data": {
      "text/html": [
       "<div>\n",
       "<style scoped>\n",
       "    .dataframe tbody tr th:only-of-type {\n",
       "        vertical-align: middle;\n",
       "    }\n",
       "\n",
       "    .dataframe tbody tr th {\n",
       "        vertical-align: top;\n",
       "    }\n",
       "\n",
       "    .dataframe thead th {\n",
       "        text-align: right;\n",
       "    }\n",
       "</style>\n",
       "<table border=\"1\" class=\"dataframe\">\n",
       "  <thead>\n",
       "    <tr style=\"text-align: right;\">\n",
       "      <th></th>\n",
       "      <th>url</th>\n",
       "      <th>fighter_name</th>\n",
       "      <th>nickname</th>\n",
       "      <th>birth_date</th>\n",
       "      <th>age</th>\n",
       "      <th>death_date</th>\n",
       "      <th>location</th>\n",
       "      <th>country</th>\n",
       "      <th>height</th>\n",
       "      <th>weight</th>\n",
       "      <th>...</th>\n",
       "      <th>wins</th>\n",
       "      <th>wins_ko</th>\n",
       "      <th>wins_submission</th>\n",
       "      <th>wins_decision</th>\n",
       "      <th>wins_other</th>\n",
       "      <th>lossess</th>\n",
       "      <th>losses_ko</th>\n",
       "      <th>losses_submission</th>\n",
       "      <th>losses_decision</th>\n",
       "      <th>losses_other</th>\n",
       "    </tr>\n",
       "  </thead>\n",
       "  <tbody>\n",
       "    <tr>\n",
       "      <th>0</th>\n",
       "      <td>/fighter/Kharun-Atlangeriev-167431</td>\n",
       "      <td>Kharun Atlangeriev</td>\n",
       "      <td>Predator</td>\n",
       "      <td>05/10/1992</td>\n",
       "      <td>28.0</td>\n",
       "      <td>None</td>\n",
       "      <td>None</td>\n",
       "      <td>Russia</td>\n",
       "      <td>5'10\"\"</td>\n",
       "      <td>155 lbs</td>\n",
       "      <td>...</td>\n",
       "      <td>11</td>\n",
       "      <td>5</td>\n",
       "      <td>5</td>\n",
       "      <td>1</td>\n",
       "      <td>NaN</td>\n",
       "      <td>11</td>\n",
       "      <td>0</td>\n",
       "      <td>1</td>\n",
       "      <td>1</td>\n",
       "      <td>NaN</td>\n",
       "    </tr>\n",
       "    <tr>\n",
       "      <th>1</th>\n",
       "      <td>/fighter/Shojin-Miki-157565</td>\n",
       "      <td>Shojin Miki</td>\n",
       "      <td>Mini Margarito</td>\n",
       "      <td>None</td>\n",
       "      <td>NaN</td>\n",
       "      <td>None</td>\n",
       "      <td>Honolulu, Hawaii</td>\n",
       "      <td>United States</td>\n",
       "      <td>5'9\"\"</td>\n",
       "      <td>125 lbs</td>\n",
       "      <td>...</td>\n",
       "      <td>6</td>\n",
       "      <td>2</td>\n",
       "      <td>4</td>\n",
       "      <td>0</td>\n",
       "      <td>NaN</td>\n",
       "      <td>6</td>\n",
       "      <td>2</td>\n",
       "      <td>0</td>\n",
       "      <td>5</td>\n",
       "      <td>NaN</td>\n",
       "    </tr>\n",
       "    <tr>\n",
       "      <th>2</th>\n",
       "      <td>/fighter/Ryan-Keenan-33827</td>\n",
       "      <td>Ryan Keenan</td>\n",
       "      <td>Who Dat?</td>\n",
       "      <td>15/06/1985</td>\n",
       "      <td>36.0</td>\n",
       "      <td>None</td>\n",
       "      <td>Windermere, Florida</td>\n",
       "      <td>United States</td>\n",
       "      <td>6'0\"\"</td>\n",
       "      <td>155 lbs</td>\n",
       "      <td>...</td>\n",
       "      <td>6</td>\n",
       "      <td>3</td>\n",
       "      <td>3</td>\n",
       "      <td>0</td>\n",
       "      <td>NaN</td>\n",
       "      <td>6</td>\n",
       "      <td>1</td>\n",
       "      <td>1</td>\n",
       "      <td>0</td>\n",
       "      <td>NaN</td>\n",
       "    </tr>\n",
       "    <tr>\n",
       "      <th>3</th>\n",
       "      <td>/fighter/Dustin-Jacoby-73825</td>\n",
       "      <td>Dustin Jacoby</td>\n",
       "      <td>The Hanyak</td>\n",
       "      <td>04/04/1988</td>\n",
       "      <td>33.0</td>\n",
       "      <td>None</td>\n",
       "      <td>Arenzville, Illinois</td>\n",
       "      <td>United States</td>\n",
       "      <td>6'4\"\"</td>\n",
       "      <td>205 lbs</td>\n",
       "      <td>...</td>\n",
       "      <td>14</td>\n",
       "      <td>9</td>\n",
       "      <td>1</td>\n",
       "      <td>4</td>\n",
       "      <td>NaN</td>\n",
       "      <td>14</td>\n",
       "      <td>1</td>\n",
       "      <td>2</td>\n",
       "      <td>2</td>\n",
       "      <td>NaN</td>\n",
       "    </tr>\n",
       "    <tr>\n",
       "      <th>4</th>\n",
       "      <td>/fighter/Richardson-Moreira-72825</td>\n",
       "      <td>Richardson Moreira</td>\n",
       "      <td>Rick Monstro</td>\n",
       "      <td>31/03/1984</td>\n",
       "      <td>37.0</td>\n",
       "      <td>None</td>\n",
       "      <td>Campinas, Sao Paulo</td>\n",
       "      <td>Brazil</td>\n",
       "      <td>6'2\"\"</td>\n",
       "      <td>205 lbs</td>\n",
       "      <td>...</td>\n",
       "      <td>8</td>\n",
       "      <td>2</td>\n",
       "      <td>5</td>\n",
       "      <td>1</td>\n",
       "      <td>NaN</td>\n",
       "      <td>8</td>\n",
       "      <td>1</td>\n",
       "      <td>1</td>\n",
       "      <td>3</td>\n",
       "      <td>NaN</td>\n",
       "    </tr>\n",
       "  </tbody>\n",
       "</table>\n",
       "<p>5 rows × 22 columns</p>\n",
       "</div>"
      ],
      "text/plain": [
       "                                  url        fighter_name        nickname  \\\n",
       "0  /fighter/Kharun-Atlangeriev-167431  Kharun Atlangeriev        Predator   \n",
       "1         /fighter/Shojin-Miki-157565         Shojin Miki  Mini Margarito   \n",
       "2          /fighter/Ryan-Keenan-33827         Ryan Keenan        Who Dat?   \n",
       "3        /fighter/Dustin-Jacoby-73825       Dustin Jacoby      The Hanyak   \n",
       "4   /fighter/Richardson-Moreira-72825  Richardson Moreira    Rick Monstro   \n",
       "\n",
       "   birth_date   age death_date              location        country  height  \\\n",
       "0  05/10/1992  28.0       None                  None         Russia  5'10\"\"   \n",
       "1        None   NaN       None      Honolulu, Hawaii  United States   5'9\"\"   \n",
       "2  15/06/1985  36.0       None   Windermere, Florida  United States   6'0\"\"   \n",
       "3  04/04/1988  33.0       None  Arenzville, Illinois  United States   6'4\"\"   \n",
       "4  31/03/1984  37.0       None   Campinas, Sao Paulo         Brazil   6'2\"\"   \n",
       "\n",
       "    weight  ... wins wins_ko  wins_submission  wins_decision  wins_other  \\\n",
       "0  155 lbs  ...   11       5                5              1         NaN   \n",
       "1  125 lbs  ...    6       2                4              0         NaN   \n",
       "2  155 lbs  ...    6       3                3              0         NaN   \n",
       "3  205 lbs  ...   14       9                1              4         NaN   \n",
       "4  205 lbs  ...    8       2                5              1         NaN   \n",
       "\n",
       "   lossess  losses_ko  losses_submission  losses_decision  losses_other  \n",
       "0       11          0                  1                1           NaN  \n",
       "1        6          2                  0                5           NaN  \n",
       "2        6          1                  1                0           NaN  \n",
       "3       14          1                  2                2           NaN  \n",
       "4        8          1                  1                3           NaN  \n",
       "\n",
       "[5 rows x 22 columns]"
      ]
     },
     "execution_count": 6,
     "metadata": {},
     "output_type": "execute_result"
    }
   ],
   "source": [
    "fighters_df.toPandas().head()"
   ]
  },
  {
   "cell_type": "code",
   "execution_count": 7,
   "id": "38084a66-e328-4432-bb67-3a8802f441c6",
   "metadata": {},
   "outputs": [],
   "source": [
    "upcoming_df=(spark.read\n",
    "              .option(\"header\",\"true\")\n",
    "              .option(\"inferSchema\", \"true\")\n",
    "              .csv(f\"{hdfs_lakehouse_base_path}/bronze/UFC/UFC-fights/upcoming_fights\"))"
   ]
  },
  {
   "cell_type": "code",
   "execution_count": 8,
   "id": "32839166-50a7-470f-9ac3-1d7f1e821fda",
   "metadata": {},
   "outputs": [
    {
     "name": "stdout",
     "output_type": "stream",
     "text": [
      "root\n",
      " |-- RedFighter: string (nullable = true)\n",
      " |-- BlueFighter: string (nullable = true)\n",
      " |-- RedOdds: integer (nullable = true)\n",
      " |-- BlueOdds: integer (nullable = true)\n",
      " |-- RedExpectedValue: double (nullable = true)\n",
      " |-- BlueExpectedValue: double (nullable = true)\n",
      " |-- Date: date (nullable = true)\n",
      " |-- Location: string (nullable = true)\n",
      " |-- Country: string (nullable = true)\n",
      " |-- Winner: string (nullable = true)\n",
      " |-- TitleBout: boolean (nullable = true)\n",
      " |-- WeightClass: string (nullable = true)\n",
      " |-- Gender: string (nullable = true)\n",
      " |-- NumberOfRounds: integer (nullable = true)\n",
      " |-- BlueCurrentLoseStreak: integer (nullable = true)\n",
      " |-- BlueCurrentWinStreak: integer (nullable = true)\n",
      " |-- BlueDraws: integer (nullable = true)\n",
      " |-- BlueAvgSigStrLanded: double (nullable = true)\n",
      " |-- BlueAvgSigStrPct: double (nullable = true)\n",
      " |-- BlueAvgSubAtt: double (nullable = true)\n",
      " |-- BlueAvgTDLanded: double (nullable = true)\n",
      " |-- BlueAvgTDPct: double (nullable = true)\n",
      " |-- BlueLongestWinStreak: integer (nullable = true)\n",
      " |-- BlueLosses: integer (nullable = true)\n",
      " |-- BlueTotalRoundsFought: integer (nullable = true)\n",
      " |-- BlueTotalTitleBouts: integer (nullable = true)\n",
      " |-- BlueWinsByDecisionMajority: integer (nullable = true)\n",
      " |-- BlueWinsByDecisionSplit: integer (nullable = true)\n",
      " |-- BlueWinsByDecisionUnanimous: integer (nullable = true)\n",
      " |-- BlueWinsByKO: integer (nullable = true)\n",
      " |-- BlueWinsBySubmission: integer (nullable = true)\n",
      " |-- BlueWinsByTKODoctorStoppage: integer (nullable = true)\n",
      " |-- BlueWins: integer (nullable = true)\n",
      " |-- BlueStance: string (nullable = true)\n",
      " |-- BlueHeightCms: double (nullable = true)\n",
      " |-- BlueReachCms: double (nullable = true)\n",
      " |-- BlueWeightLbs: integer (nullable = true)\n",
      " |-- RedCurrentLoseStreak: integer (nullable = true)\n",
      " |-- RedCurrentWinStreak: integer (nullable = true)\n",
      " |-- RedDraws: integer (nullable = true)\n",
      " |-- RedAvgSigStrLanded: double (nullable = true)\n",
      " |-- RedAvgSigStrPct: double (nullable = true)\n",
      " |-- RedAvgSubAtt: double (nullable = true)\n",
      " |-- RedAvgTDLanded: double (nullable = true)\n",
      " |-- RedAvgTDPct: double (nullable = true)\n",
      " |-- RedLongestWinStreak: integer (nullable = true)\n",
      " |-- RedLosses: integer (nullable = true)\n",
      " |-- RedTotalRoundsFought: integer (nullable = true)\n",
      " |-- RedTotalTitleBouts: integer (nullable = true)\n",
      " |-- RedWinsByDecisionMajority: integer (nullable = true)\n",
      " |-- RedWinsByDecisionSplit: integer (nullable = true)\n",
      " |-- RedWinsByDecisionUnanimous: integer (nullable = true)\n",
      " |-- RedWinsByKO: integer (nullable = true)\n",
      " |-- RedWinsBySubmission: integer (nullable = true)\n",
      " |-- RedWinsByTKODoctorStoppage: integer (nullable = true)\n",
      " |-- RedWins: integer (nullable = true)\n",
      " |-- RedStance: string (nullable = true)\n",
      " |-- RedHeightCms: double (nullable = true)\n",
      " |-- RedReachCms: double (nullable = true)\n",
      " |-- RedWeightLbs: integer (nullable = true)\n",
      " |-- RedAge: integer (nullable = true)\n",
      " |-- BlueAge: integer (nullable = true)\n",
      " |-- LoseStreakDif: integer (nullable = true)\n",
      " |-- WinStreakDif: integer (nullable = true)\n",
      " |-- LongestWinStreakDif: integer (nullable = true)\n",
      " |-- WinDif: integer (nullable = true)\n",
      " |-- LossDif: integer (nullable = true)\n",
      " |-- TotalRoundDif: integer (nullable = true)\n",
      " |-- TotalTitleBoutDif: integer (nullable = true)\n",
      " |-- KODif: integer (nullable = true)\n",
      " |-- SubDif: integer (nullable = true)\n",
      " |-- HeightDif: double (nullable = true)\n",
      " |-- ReachDif: double (nullable = true)\n",
      " |-- AgeDif: integer (nullable = true)\n",
      " |-- SigStrDif: double (nullable = true)\n",
      " |-- AvgSubAttDif: double (nullable = true)\n",
      " |-- AvgTDDif: double (nullable = true)\n",
      " |-- EmptyArena: string (nullable = true)\n",
      " |-- BMatchWCRank: double (nullable = true)\n",
      " |-- RMatchWCRank: double (nullable = true)\n",
      " |-- RWFlyweightRank: string (nullable = true)\n",
      " |-- RWFeatherweightRank: string (nullable = true)\n",
      " |-- RWStrawweightRank: string (nullable = true)\n",
      " |-- RWBantamweightRank: string (nullable = true)\n",
      " |-- RHeavyweightRank: double (nullable = true)\n",
      " |-- RLightHeavyweightRank: double (nullable = true)\n",
      " |-- RMiddleweightRank: string (nullable = true)\n",
      " |-- RWelterweightRank: double (nullable = true)\n",
      " |-- RLightweightRank: string (nullable = true)\n",
      " |-- RFeatherweightRank: double (nullable = true)\n",
      " |-- RBantamweightRank: string (nullable = true)\n",
      " |-- RFlyweightRank: double (nullable = true)\n",
      " |-- RPFPRank: double (nullable = true)\n",
      " |-- BWFlyweightRank: string (nullable = true)\n",
      " |-- BWFeatherweightRank: string (nullable = true)\n",
      " |-- BWStrawweightRank: string (nullable = true)\n",
      " |-- BWBantamweightRank: string (nullable = true)\n",
      " |-- BHeavyweightRank: double (nullable = true)\n",
      " |-- BLightHeavyweightRank: double (nullable = true)\n",
      " |-- BMiddleweightRank: string (nullable = true)\n",
      " |-- BWelterweightRank: double (nullable = true)\n",
      " |-- BLightweightRank: string (nullable = true)\n",
      " |-- BFeatherweightRank: double (nullable = true)\n",
      " |-- BBantamweightRank: string (nullable = true)\n",
      " |-- BFlyweightRank: string (nullable = true)\n",
      " |-- BPFPRank: string (nullable = true)\n",
      " |-- BetterRank: string (nullable = true)\n",
      " |-- Finish: string (nullable = true)\n",
      " |-- FinishDetails: string (nullable = true)\n",
      " |-- FinishRound: string (nullable = true)\n",
      " |-- FinishRoundTime: string (nullable = true)\n",
      " |-- TotalFightTimeSecs: string (nullable = true)\n",
      " |-- RedDecOdds: integer (nullable = true)\n",
      " |-- BlueDecOdds: integer (nullable = true)\n",
      " |-- RSubOdds: integer (nullable = true)\n",
      " |-- BSubOdds: integer (nullable = true)\n",
      " |-- RKOOdds: integer (nullable = true)\n",
      " |-- BKOOdds: integer (nullable = true)\n",
      "\n"
     ]
    }
   ],
   "source": [
    "upcoming_df.printSchema()"
   ]
  },
  {
   "cell_type": "code",
   "execution_count": 8,
   "id": "6f89896d-5be2-4a5d-b43b-c6763825e58c",
   "metadata": {},
   "outputs": [
    {
     "data": {
      "text/html": [
       "<div>\n",
       "<style scoped>\n",
       "    .dataframe tbody tr th:only-of-type {\n",
       "        vertical-align: middle;\n",
       "    }\n",
       "\n",
       "    .dataframe tbody tr th {\n",
       "        vertical-align: top;\n",
       "    }\n",
       "\n",
       "    .dataframe thead th {\n",
       "        text-align: right;\n",
       "    }\n",
       "</style>\n",
       "<table border=\"1\" class=\"dataframe\">\n",
       "  <thead>\n",
       "    <tr style=\"text-align: right;\">\n",
       "      <th></th>\n",
       "      <th>RedFighter</th>\n",
       "      <th>BlueFighter</th>\n",
       "      <th>RedOdds</th>\n",
       "      <th>BlueOdds</th>\n",
       "      <th>RedExpectedValue</th>\n",
       "      <th>BlueExpectedValue</th>\n",
       "      <th>Date</th>\n",
       "      <th>Location</th>\n",
       "      <th>Country</th>\n",
       "      <th>Winner</th>\n",
       "      <th>...</th>\n",
       "      <th>FinishDetails</th>\n",
       "      <th>FinishRound</th>\n",
       "      <th>FinishRoundTime</th>\n",
       "      <th>TotalFightTimeSecs</th>\n",
       "      <th>RedDecOdds</th>\n",
       "      <th>BlueDecOdds</th>\n",
       "      <th>RSubOdds</th>\n",
       "      <th>BSubOdds</th>\n",
       "      <th>RKOOdds</th>\n",
       "      <th>BKOOdds</th>\n",
       "    </tr>\n",
       "  </thead>\n",
       "  <tbody>\n",
       "    <tr>\n",
       "      <th>0</th>\n",
       "      <td>Alexandre Pantoja</td>\n",
       "      <td>Kai Asakura</td>\n",
       "      <td>-250</td>\n",
       "      <td>215</td>\n",
       "      <td>40.0000</td>\n",
       "      <td>215.0</td>\n",
       "      <td>2024-12-07</td>\n",
       "      <td>Las Vegas, Nevada, USA</td>\n",
       "      <td>USA</td>\n",
       "      <td>None</td>\n",
       "      <td>...</td>\n",
       "      <td>None</td>\n",
       "      <td>None</td>\n",
       "      <td>None</td>\n",
       "      <td>None</td>\n",
       "      <td>300</td>\n",
       "      <td>800</td>\n",
       "      <td>150</td>\n",
       "      <td>2500</td>\n",
       "      <td>400</td>\n",
       "      <td>350</td>\n",
       "    </tr>\n",
       "    <tr>\n",
       "      <th>1</th>\n",
       "      <td>Shavkat Rakhmonov</td>\n",
       "      <td>Ian Machado Garry</td>\n",
       "      <td>-210</td>\n",
       "      <td>295</td>\n",
       "      <td>47.6190</td>\n",
       "      <td>295.0</td>\n",
       "      <td>2024-12-07</td>\n",
       "      <td>Las Vegas, Nevada, USA</td>\n",
       "      <td>USA</td>\n",
       "      <td>None</td>\n",
       "      <td>...</td>\n",
       "      <td>None</td>\n",
       "      <td>None</td>\n",
       "      <td>None</td>\n",
       "      <td>None</td>\n",
       "      <td>250</td>\n",
       "      <td>650</td>\n",
       "      <td>180</td>\n",
       "      <td>3000</td>\n",
       "      <td>240</td>\n",
       "      <td>700</td>\n",
       "    </tr>\n",
       "    <tr>\n",
       "      <th>2</th>\n",
       "      <td>Ciryl Gane</td>\n",
       "      <td>Alexander Volkov</td>\n",
       "      <td>-380</td>\n",
       "      <td>300</td>\n",
       "      <td>26.3158</td>\n",
       "      <td>300.0</td>\n",
       "      <td>2024-12-07</td>\n",
       "      <td>Las Vegas, Nevada, USA</td>\n",
       "      <td>USA</td>\n",
       "      <td>None</td>\n",
       "      <td>...</td>\n",
       "      <td>None</td>\n",
       "      <td>None</td>\n",
       "      <td>None</td>\n",
       "      <td>None</td>\n",
       "      <td>-160</td>\n",
       "      <td>450</td>\n",
       "      <td>1100</td>\n",
       "      <td>3000</td>\n",
       "      <td>350</td>\n",
       "      <td>1100</td>\n",
       "    </tr>\n",
       "    <tr>\n",
       "      <th>3</th>\n",
       "      <td>Bryce Mitchell</td>\n",
       "      <td>Kron Gracie</td>\n",
       "      <td>-950</td>\n",
       "      <td>625</td>\n",
       "      <td>10.5263</td>\n",
       "      <td>625.0</td>\n",
       "      <td>2024-12-07</td>\n",
       "      <td>Las Vegas, Nevada, USA</td>\n",
       "      <td>USA</td>\n",
       "      <td>None</td>\n",
       "      <td>...</td>\n",
       "      <td>None</td>\n",
       "      <td>None</td>\n",
       "      <td>None</td>\n",
       "      <td>None</td>\n",
       "      <td>-200</td>\n",
       "      <td>1100</td>\n",
       "      <td>380</td>\n",
       "      <td>1400</td>\n",
       "      <td>500</td>\n",
       "      <td>4000</td>\n",
       "    </tr>\n",
       "    <tr>\n",
       "      <th>4</th>\n",
       "      <td>Nate Landwehr</td>\n",
       "      <td>Dooho Choi</td>\n",
       "      <td>-130</td>\n",
       "      <td>110</td>\n",
       "      <td>76.9231</td>\n",
       "      <td>110.0</td>\n",
       "      <td>2024-12-07</td>\n",
       "      <td>Las Vegas, Nevada, USA</td>\n",
       "      <td>USA</td>\n",
       "      <td>None</td>\n",
       "      <td>...</td>\n",
       "      <td>None</td>\n",
       "      <td>None</td>\n",
       "      <td>None</td>\n",
       "      <td>None</td>\n",
       "      <td>275</td>\n",
       "      <td>550</td>\n",
       "      <td>500</td>\n",
       "      <td>700</td>\n",
       "      <td>300</td>\n",
       "      <td>250</td>\n",
       "    </tr>\n",
       "  </tbody>\n",
       "</table>\n",
       "<p>5 rows × 118 columns</p>\n",
       "</div>"
      ],
      "text/plain": [
       "          RedFighter        BlueFighter  RedOdds  BlueOdds  RedExpectedValue  \\\n",
       "0  Alexandre Pantoja        Kai Asakura     -250       215           40.0000   \n",
       "1  Shavkat Rakhmonov  Ian Machado Garry     -210       295           47.6190   \n",
       "2         Ciryl Gane   Alexander Volkov     -380       300           26.3158   \n",
       "3     Bryce Mitchell        Kron Gracie     -950       625           10.5263   \n",
       "4      Nate Landwehr         Dooho Choi     -130       110           76.9231   \n",
       "\n",
       "   BlueExpectedValue        Date                Location Country Winner  ...  \\\n",
       "0              215.0  2024-12-07  Las Vegas, Nevada, USA     USA   None  ...   \n",
       "1              295.0  2024-12-07  Las Vegas, Nevada, USA     USA   None  ...   \n",
       "2              300.0  2024-12-07  Las Vegas, Nevada, USA     USA   None  ...   \n",
       "3              625.0  2024-12-07  Las Vegas, Nevada, USA     USA   None  ...   \n",
       "4              110.0  2024-12-07  Las Vegas, Nevada, USA     USA   None  ...   \n",
       "\n",
       "   FinishDetails FinishRound FinishRoundTime  TotalFightTimeSecs  RedDecOdds  \\\n",
       "0           None        None            None                None         300   \n",
       "1           None        None            None                None         250   \n",
       "2           None        None            None                None        -160   \n",
       "3           None        None            None                None        -200   \n",
       "4           None        None            None                None         275   \n",
       "\n",
       "   BlueDecOdds  RSubOdds  BSubOdds  RKOOdds  BKOOdds  \n",
       "0          800       150      2500      400      350  \n",
       "1          650       180      3000      240      700  \n",
       "2          450      1100      3000      350     1100  \n",
       "3         1100       380      1400      500     4000  \n",
       "4          550       500       700      300      250  \n",
       "\n",
       "[5 rows x 118 columns]"
      ]
     },
     "execution_count": 8,
     "metadata": {},
     "output_type": "execute_result"
    }
   ],
   "source": [
    "upcoming_df.toPandas().head()"
   ]
  },
  {
   "cell_type": "code",
   "execution_count": 10,
   "id": "33bb657b-f444-4f43-adf6-21886f8ea700",
   "metadata": {},
   "outputs": [],
   "source": [
    "history_df=(spark.read\n",
    "              .option(\"header\",\"true\")\n",
    "              .option(\"inferSchema\", \"true\")\n",
    "              .csv(f\"{hdfs_lakehouse_base_path}/bronze/UFC/UFC-fights/previous_fights\"))"
   ]
  },
  {
   "cell_type": "code",
   "execution_count": 11,
   "id": "b6004e73-e635-49a2-83f4-e26011fc64c9",
   "metadata": {},
   "outputs": [
    {
     "name": "stdout",
     "output_type": "stream",
     "text": [
      "root\n",
      " |-- RedFighter: string (nullable = true)\n",
      " |-- BlueFighter: string (nullable = true)\n",
      " |-- RedOdds: double (nullable = true)\n",
      " |-- BlueOdds: double (nullable = true)\n",
      " |-- RedExpectedValue: double (nullable = true)\n",
      " |-- BlueExpectedValue: double (nullable = true)\n",
      " |-- Date: date (nullable = true)\n",
      " |-- Location: string (nullable = true)\n",
      " |-- Country: string (nullable = true)\n",
      " |-- Winner: string (nullable = true)\n",
      " |-- TitleBout: boolean (nullable = true)\n",
      " |-- WeightClass: string (nullable = true)\n",
      " |-- Gender: string (nullable = true)\n",
      " |-- NumberOfRounds: integer (nullable = true)\n",
      " |-- BlueCurrentLoseStreak: integer (nullable = true)\n",
      " |-- BlueCurrentWinStreak: integer (nullable = true)\n",
      " |-- BlueDraws: integer (nullable = true)\n",
      " |-- BlueAvgSigStrLanded: double (nullable = true)\n",
      " |-- BlueAvgSigStrPct: double (nullable = true)\n",
      " |-- BlueAvgSubAtt: double (nullable = true)\n",
      " |-- BlueAvgTDLanded: double (nullable = true)\n",
      " |-- BlueAvgTDPct: double (nullable = true)\n",
      " |-- BlueLongestWinStreak: integer (nullable = true)\n",
      " |-- BlueLosses: integer (nullable = true)\n",
      " |-- BlueTotalRoundsFought: integer (nullable = true)\n",
      " |-- BlueTotalTitleBouts: integer (nullable = true)\n",
      " |-- BlueWinsByDecisionMajority: integer (nullable = true)\n",
      " |-- BlueWinsByDecisionSplit: integer (nullable = true)\n",
      " |-- BlueWinsByDecisionUnanimous: integer (nullable = true)\n",
      " |-- BlueWinsByKO: integer (nullable = true)\n",
      " |-- BlueWinsBySubmission: integer (nullable = true)\n",
      " |-- BlueWinsByTKODoctorStoppage: integer (nullable = true)\n",
      " |-- BlueWins: integer (nullable = true)\n",
      " |-- BlueStance: string (nullable = true)\n",
      " |-- BlueHeightCms: double (nullable = true)\n",
      " |-- BlueReachCms: double (nullable = true)\n",
      " |-- BlueWeightLbs: integer (nullable = true)\n",
      " |-- RedCurrentLoseStreak: integer (nullable = true)\n",
      " |-- RedCurrentWinStreak: integer (nullable = true)\n",
      " |-- RedDraws: integer (nullable = true)\n",
      " |-- RedAvgSigStrLanded: double (nullable = true)\n",
      " |-- RedAvgSigStrPct: double (nullable = true)\n",
      " |-- RedAvgSubAtt: double (nullable = true)\n",
      " |-- RedAvgTDLanded: double (nullable = true)\n",
      " |-- RedAvgTDPct: double (nullable = true)\n",
      " |-- RedLongestWinStreak: integer (nullable = true)\n",
      " |-- RedLosses: integer (nullable = true)\n",
      " |-- RedTotalRoundsFought: integer (nullable = true)\n",
      " |-- RedTotalTitleBouts: integer (nullable = true)\n",
      " |-- RedWinsByDecisionMajority: integer (nullable = true)\n",
      " |-- RedWinsByDecisionSplit: integer (nullable = true)\n",
      " |-- RedWinsByDecisionUnanimous: integer (nullable = true)\n",
      " |-- RedWinsByKO: integer (nullable = true)\n",
      " |-- RedWinsBySubmission: integer (nullable = true)\n",
      " |-- RedWinsByTKODoctorStoppage: integer (nullable = true)\n",
      " |-- RedWins: integer (nullable = true)\n",
      " |-- RedStance: string (nullable = true)\n",
      " |-- RedHeightCms: double (nullable = true)\n",
      " |-- RedReachCms: double (nullable = true)\n",
      " |-- RedWeightLbs: integer (nullable = true)\n",
      " |-- RedAge: integer (nullable = true)\n",
      " |-- BlueAge: integer (nullable = true)\n",
      " |-- LoseStreakDif: integer (nullable = true)\n",
      " |-- WinStreakDif: integer (nullable = true)\n",
      " |-- LongestWinStreakDif: integer (nullable = true)\n",
      " |-- WinDif: integer (nullable = true)\n",
      " |-- LossDif: integer (nullable = true)\n",
      " |-- TotalRoundDif: integer (nullable = true)\n",
      " |-- TotalTitleBoutDif: integer (nullable = true)\n",
      " |-- KODif: integer (nullable = true)\n",
      " |-- SubDif: integer (nullable = true)\n",
      " |-- HeightDif: double (nullable = true)\n",
      " |-- ReachDif: double (nullable = true)\n",
      " |-- AgeDif: integer (nullable = true)\n",
      " |-- SigStrDif: double (nullable = true)\n",
      " |-- AvgSubAttDif: double (nullable = true)\n",
      " |-- AvgTDDif: double (nullable = true)\n",
      " |-- EmptyArena: double (nullable = true)\n",
      " |-- BMatchWCRank: double (nullable = true)\n",
      " |-- RMatchWCRank: double (nullable = true)\n",
      " |-- RWFlyweightRank: double (nullable = true)\n",
      " |-- RWFeatherweightRank: double (nullable = true)\n",
      " |-- RWStrawweightRank: double (nullable = true)\n",
      " |-- RWBantamweightRank: double (nullable = true)\n",
      " |-- RHeavyweightRank: double (nullable = true)\n",
      " |-- RLightHeavyweightRank: double (nullable = true)\n",
      " |-- RMiddleweightRank: double (nullable = true)\n",
      " |-- RWelterweightRank: double (nullable = true)\n",
      " |-- RLightweightRank: double (nullable = true)\n",
      " |-- RFeatherweightRank: double (nullable = true)\n",
      " |-- RBantamweightRank: double (nullable = true)\n",
      " |-- RFlyweightRank: double (nullable = true)\n",
      " |-- RPFPRank: double (nullable = true)\n",
      " |-- BWFlyweightRank: double (nullable = true)\n",
      " |-- BWFeatherweightRank: double (nullable = true)\n",
      " |-- BWStrawweightRank: double (nullable = true)\n",
      " |-- BWBantamweightRank: double (nullable = true)\n",
      " |-- BHeavyweightRank: double (nullable = true)\n",
      " |-- BLightHeavyweightRank: double (nullable = true)\n",
      " |-- BMiddleweightRank: double (nullable = true)\n",
      " |-- BWelterweightRank: double (nullable = true)\n",
      " |-- BLightweightRank: double (nullable = true)\n",
      " |-- BFeatherweightRank: double (nullable = true)\n",
      " |-- BBantamweightRank: double (nullable = true)\n",
      " |-- BFlyweightRank: double (nullable = true)\n",
      " |-- BPFPRank: double (nullable = true)\n",
      " |-- BetterRank: string (nullable = true)\n",
      " |-- Finish: string (nullable = true)\n",
      " |-- FinishDetails: string (nullable = true)\n",
      " |-- FinishRound: double (nullable = true)\n",
      " |-- FinishRoundTime: timestamp (nullable = true)\n",
      " |-- TotalFightTimeSecs: double (nullable = true)\n",
      " |-- RedDecOdds: double (nullable = true)\n",
      " |-- BlueDecOdds: double (nullable = true)\n",
      " |-- RSubOdds: double (nullable = true)\n",
      " |-- BSubOdds: double (nullable = true)\n",
      " |-- RKOOdds: double (nullable = true)\n",
      " |-- BKOOdds: double (nullable = true)\n",
      "\n"
     ]
    }
   ],
   "source": [
    "history_df.printSchema()"
   ]
  },
  {
   "cell_type": "code",
   "execution_count": 10,
   "id": "65334c2d-b8eb-40f2-a490-cbd50008d009",
   "metadata": {},
   "outputs": [
    {
     "data": {
      "text/html": [
       "<div>\n",
       "<style scoped>\n",
       "    .dataframe tbody tr th:only-of-type {\n",
       "        vertical-align: middle;\n",
       "    }\n",
       "\n",
       "    .dataframe tbody tr th {\n",
       "        vertical-align: top;\n",
       "    }\n",
       "\n",
       "    .dataframe thead th {\n",
       "        text-align: right;\n",
       "    }\n",
       "</style>\n",
       "<table border=\"1\" class=\"dataframe\">\n",
       "  <thead>\n",
       "    <tr style=\"text-align: right;\">\n",
       "      <th></th>\n",
       "      <th>RedFighter</th>\n",
       "      <th>BlueFighter</th>\n",
       "      <th>RedOdds</th>\n",
       "      <th>BlueOdds</th>\n",
       "      <th>RedExpectedValue</th>\n",
       "      <th>BlueExpectedValue</th>\n",
       "      <th>Date</th>\n",
       "      <th>Location</th>\n",
       "      <th>Country</th>\n",
       "      <th>Winner</th>\n",
       "      <th>...</th>\n",
       "      <th>FinishDetails</th>\n",
       "      <th>FinishRound</th>\n",
       "      <th>FinishRoundTime</th>\n",
       "      <th>TotalFightTimeSecs</th>\n",
       "      <th>RedDecOdds</th>\n",
       "      <th>BlueDecOdds</th>\n",
       "      <th>RSubOdds</th>\n",
       "      <th>BSubOdds</th>\n",
       "      <th>RKOOdds</th>\n",
       "      <th>BKOOdds</th>\n",
       "    </tr>\n",
       "  </thead>\n",
       "  <tbody>\n",
       "    <tr>\n",
       "      <th>0</th>\n",
       "      <td>Petr Yan</td>\n",
       "      <td>Deiveson Figueiredo</td>\n",
       "      <td>-305.0</td>\n",
       "      <td>245.0</td>\n",
       "      <td>32.7869</td>\n",
       "      <td>245.0000</td>\n",
       "      <td>2024-11-23</td>\n",
       "      <td>Macau, China</td>\n",
       "      <td>China</td>\n",
       "      <td>Red</td>\n",
       "      <td>...</td>\n",
       "      <td>None</td>\n",
       "      <td>5.0</td>\n",
       "      <td>2024-12-15 05:00:00</td>\n",
       "      <td>1500.0</td>\n",
       "      <td>110.0</td>\n",
       "      <td>450.0</td>\n",
       "      <td>2000.0</td>\n",
       "      <td>1600.0</td>\n",
       "      <td>200.0</td>\n",
       "      <td>1000.0</td>\n",
       "    </tr>\n",
       "    <tr>\n",
       "      <th>1</th>\n",
       "      <td>Yan Xiaonan</td>\n",
       "      <td>Tabatha Ricci</td>\n",
       "      <td>-198.0</td>\n",
       "      <td>164.0</td>\n",
       "      <td>50.5051</td>\n",
       "      <td>164.0000</td>\n",
       "      <td>2024-11-23</td>\n",
       "      <td>Macau, China</td>\n",
       "      <td>China</td>\n",
       "      <td>Red</td>\n",
       "      <td>...</td>\n",
       "      <td>None</td>\n",
       "      <td>3.0</td>\n",
       "      <td>2024-12-15 05:00:00</td>\n",
       "      <td>900.0</td>\n",
       "      <td>110.0</td>\n",
       "      <td>215.0</td>\n",
       "      <td>2000.0</td>\n",
       "      <td>1100.0</td>\n",
       "      <td>200.0</td>\n",
       "      <td>1800.0</td>\n",
       "    </tr>\n",
       "    <tr>\n",
       "      <th>2</th>\n",
       "      <td>Song Kenan</td>\n",
       "      <td>Muslim Salikhov</td>\n",
       "      <td>NaN</td>\n",
       "      <td>-230.0</td>\n",
       "      <td>NaN</td>\n",
       "      <td>43.4783</td>\n",
       "      <td>2024-11-23</td>\n",
       "      <td>Macau, China</td>\n",
       "      <td>China</td>\n",
       "      <td>Blue</td>\n",
       "      <td>...</td>\n",
       "      <td>Kick</td>\n",
       "      <td>1.0</td>\n",
       "      <td>2024-12-15 03:49:00</td>\n",
       "      <td>229.0</td>\n",
       "      <td>NaN</td>\n",
       "      <td>175.0</td>\n",
       "      <td>NaN</td>\n",
       "      <td>1800.0</td>\n",
       "      <td>NaN</td>\n",
       "      <td>200.0</td>\n",
       "    </tr>\n",
       "    <tr>\n",
       "      <th>3</th>\n",
       "      <td>Wang Cong</td>\n",
       "      <td>Gabriella Fernandes</td>\n",
       "      <td>-950.0</td>\n",
       "      <td>750.0</td>\n",
       "      <td>10.5263</td>\n",
       "      <td>750.0000</td>\n",
       "      <td>2024-11-23</td>\n",
       "      <td>Macau, China</td>\n",
       "      <td>China</td>\n",
       "      <td>Blue</td>\n",
       "      <td>...</td>\n",
       "      <td>Rear Naked Choke</td>\n",
       "      <td>2.0</td>\n",
       "      <td>2024-12-15 03:49:00</td>\n",
       "      <td>529.0</td>\n",
       "      <td>-110.0</td>\n",
       "      <td>1000.0</td>\n",
       "      <td>460.0</td>\n",
       "      <td>3000.0</td>\n",
       "      <td>280.0</td>\n",
       "      <td>2200.0</td>\n",
       "    </tr>\n",
       "    <tr>\n",
       "      <th>4</th>\n",
       "      <td>Volkan Oezdemir</td>\n",
       "      <td>Carlos Ulberg</td>\n",
       "      <td>215.0</td>\n",
       "      <td>-265.0</td>\n",
       "      <td>215.0000</td>\n",
       "      <td>37.7358</td>\n",
       "      <td>2024-11-23</td>\n",
       "      <td>Macau, China</td>\n",
       "      <td>China</td>\n",
       "      <td>Blue</td>\n",
       "      <td>...</td>\n",
       "      <td>None</td>\n",
       "      <td>3.0</td>\n",
       "      <td>2024-12-15 05:00:00</td>\n",
       "      <td>900.0</td>\n",
       "      <td>500.0</td>\n",
       "      <td>240.0</td>\n",
       "      <td>1600.0</td>\n",
       "      <td>800.0</td>\n",
       "      <td>500.0</td>\n",
       "      <td>130.0</td>\n",
       "    </tr>\n",
       "  </tbody>\n",
       "</table>\n",
       "<p>5 rows × 118 columns</p>\n",
       "</div>"
      ],
      "text/plain": [
       "        RedFighter          BlueFighter  RedOdds  BlueOdds  RedExpectedValue  \\\n",
       "0         Petr Yan  Deiveson Figueiredo   -305.0     245.0           32.7869   \n",
       "1      Yan Xiaonan        Tabatha Ricci   -198.0     164.0           50.5051   \n",
       "2       Song Kenan      Muslim Salikhov      NaN    -230.0               NaN   \n",
       "3        Wang Cong  Gabriella Fernandes   -950.0     750.0           10.5263   \n",
       "4  Volkan Oezdemir        Carlos Ulberg    215.0    -265.0          215.0000   \n",
       "\n",
       "   BlueExpectedValue        Date      Location Country Winner  ...  \\\n",
       "0           245.0000  2024-11-23  Macau, China   China    Red  ...   \n",
       "1           164.0000  2024-11-23  Macau, China   China    Red  ...   \n",
       "2            43.4783  2024-11-23  Macau, China   China   Blue  ...   \n",
       "3           750.0000  2024-11-23  Macau, China   China   Blue  ...   \n",
       "4            37.7358  2024-11-23  Macau, China   China   Blue  ...   \n",
       "\n",
       "      FinishDetails FinishRound     FinishRoundTime  TotalFightTimeSecs  \\\n",
       "0              None         5.0 2024-12-15 05:00:00              1500.0   \n",
       "1              None         3.0 2024-12-15 05:00:00               900.0   \n",
       "2              Kick         1.0 2024-12-15 03:49:00               229.0   \n",
       "3  Rear Naked Choke         2.0 2024-12-15 03:49:00               529.0   \n",
       "4              None         3.0 2024-12-15 05:00:00               900.0   \n",
       "\n",
       "   RedDecOdds  BlueDecOdds  RSubOdds  BSubOdds  RKOOdds  BKOOdds  \n",
       "0       110.0        450.0    2000.0    1600.0    200.0   1000.0  \n",
       "1       110.0        215.0    2000.0    1100.0    200.0   1800.0  \n",
       "2         NaN        175.0       NaN    1800.0      NaN    200.0  \n",
       "3      -110.0       1000.0     460.0    3000.0    280.0   2200.0  \n",
       "4       500.0        240.0    1600.0     800.0    500.0    130.0  \n",
       "\n",
       "[5 rows x 118 columns]"
      ]
     },
     "execution_count": 10,
     "metadata": {},
     "output_type": "execute_result"
    }
   ],
   "source": [
    "history_df.toPandas().head()"
   ]
  },
  {
   "cell_type": "code",
   "execution_count": 12,
   "id": "0c6c89e2-6731-499a-b7f2-4868d53eccc6",
   "metadata": {},
   "outputs": [],
   "source": [
    "rankings_df=(spark.read\n",
    "              .option(\"header\",\"true\")\n",
    "              .option(\"inferSchema\", \"true\")\n",
    "              .csv(f\"{hdfs_lakehouse_base_path}/bronze/UFC/UFC-rankings\"))"
   ]
  },
  {
   "cell_type": "code",
   "execution_count": 13,
   "id": "8b0746b2-bfc6-4a82-bcc7-9c0b3d9da6a2",
   "metadata": {},
   "outputs": [
    {
     "name": "stdout",
     "output_type": "stream",
     "text": [
      "root\n",
      " |-- date: date (nullable = true)\n",
      " |-- weightclass: string (nullable = true)\n",
      " |-- fighter: string (nullable = true)\n",
      " |-- rank: integer (nullable = true)\n",
      "\n"
     ]
    }
   ],
   "source": [
    "rankings_df.printSchema()"
   ]
  },
  {
   "cell_type": "code",
   "execution_count": 12,
   "id": "5c832937-1f82-4fda-a621-1380c67f60f7",
   "metadata": {},
   "outputs": [
    {
     "data": {
      "text/html": [
       "<div>\n",
       "<style scoped>\n",
       "    .dataframe tbody tr th:only-of-type {\n",
       "        vertical-align: middle;\n",
       "    }\n",
       "\n",
       "    .dataframe tbody tr th {\n",
       "        vertical-align: top;\n",
       "    }\n",
       "\n",
       "    .dataframe thead th {\n",
       "        text-align: right;\n",
       "    }\n",
       "</style>\n",
       "<table border=\"1\" class=\"dataframe\">\n",
       "  <thead>\n",
       "    <tr style=\"text-align: right;\">\n",
       "      <th></th>\n",
       "      <th>date</th>\n",
       "      <th>weightclass</th>\n",
       "      <th>fighter</th>\n",
       "      <th>rank</th>\n",
       "    </tr>\n",
       "  </thead>\n",
       "  <tbody>\n",
       "    <tr>\n",
       "      <th>0</th>\n",
       "      <td>2013-02-04</td>\n",
       "      <td>Pound-for-Pound</td>\n",
       "      <td>Anderson Silva</td>\n",
       "      <td>1</td>\n",
       "    </tr>\n",
       "    <tr>\n",
       "      <th>1</th>\n",
       "      <td>2013-02-04</td>\n",
       "      <td>Pound-for-Pound</td>\n",
       "      <td>Jon Jones</td>\n",
       "      <td>2</td>\n",
       "    </tr>\n",
       "    <tr>\n",
       "      <th>2</th>\n",
       "      <td>2013-02-04</td>\n",
       "      <td>Pound-for-Pound</td>\n",
       "      <td>Georges St. Pierre</td>\n",
       "      <td>3</td>\n",
       "    </tr>\n",
       "    <tr>\n",
       "      <th>3</th>\n",
       "      <td>2013-02-04</td>\n",
       "      <td>Pound-for-Pound</td>\n",
       "      <td>José Aldo</td>\n",
       "      <td>4</td>\n",
       "    </tr>\n",
       "    <tr>\n",
       "      <th>4</th>\n",
       "      <td>2013-02-04</td>\n",
       "      <td>Pound-for-Pound</td>\n",
       "      <td>Benson Henderson</td>\n",
       "      <td>5</td>\n",
       "    </tr>\n",
       "  </tbody>\n",
       "</table>\n",
       "</div>"
      ],
      "text/plain": [
       "         date      weightclass             fighter  rank\n",
       "0  2013-02-04  Pound-for-Pound      Anderson Silva     1\n",
       "1  2013-02-04  Pound-for-Pound           Jon Jones     2\n",
       "2  2013-02-04  Pound-for-Pound  Georges St. Pierre     3\n",
       "3  2013-02-04  Pound-for-Pound           José Aldo     4\n",
       "4  2013-02-04  Pound-for-Pound    Benson Henderson     5"
      ]
     },
     "execution_count": 12,
     "metadata": {},
     "output_type": "execute_result"
    }
   ],
   "source": [
    "rankings_df.toPandas().head()"
   ]
  },
  {
   "cell_type": "markdown",
   "id": "a70ff22a-8eb3-4506-a44f-4c9026616464",
   "metadata": {},
   "source": [
    "3. Data Cleaning"
   ]
  },
  {
   "cell_type": "code",
   "execution_count": 13,
   "id": "dd570e33-7bc8-4e54-aec1-81adbb96427e",
   "metadata": {},
   "outputs": [
    {
     "name": "stdout",
     "output_type": "stream",
     "text": [
      "No columns with all null values found in Fighters Dataset\n",
      "Columns with all null values in Upcoming Fights Dataset: ['Winner', 'EmptyArena', 'RWFlyweightRank', 'RWFeatherweightRank', 'RWStrawweightRank', 'RWBantamweightRank', 'RMiddleweightRank', 'RLightweightRank', 'RBantamweightRank', 'BWFlyweightRank', 'BWFeatherweightRank', 'BWStrawweightRank', 'BWBantamweightRank', 'BMiddleweightRank', 'BLightweightRank', 'BBantamweightRank', 'BFlyweightRank', 'BPFPRank', 'Finish', 'FinishDetails', 'FinishRound', 'FinishRoundTime', 'TotalFightTimeSecs']\n",
      "No columns with all null values found in Historical Fights Dataset\n",
      "No columns with all null values found in Rankings Dataset\n"
     ]
    }
   ],
   "source": [
    "# Function to identify columns with all null values\n",
    "def show_all_null_columns(df, dataset_name):\n",
    "    # Calculate total rows in the DataFrame\n",
    "    total_rows = df.count()\n",
    "    \n",
    "    # Calculate the number of null values in each column\n",
    "    null_counts = df.select([\n",
    "        sum(col(c).isNull().cast(\"int\")).alias(c) for c in df.columns\n",
    "    ])\n",
    "    \n",
    "    # Identify columns where the number of nulls is equal to the total number of rows\n",
    "    columns_all_null = [col_name for col_name, count in null_counts.first().asDict().items() if count == total_rows]\n",
    "    \n",
    "    # Display columns with all null values\n",
    "    if columns_all_null:\n",
    "        print(f\"Columns with all null values in {dataset_name}: {columns_all_null}\")\n",
    "    else:\n",
    "        print(f\"No columns with all null values found in {dataset_name}\")\n",
    "\n",
    "# Apply the function to each dataset\n",
    "show_all_null_columns(fighters_df, \"Fighters Dataset\")\n",
    "show_all_null_columns(upcoming_df, \"Upcoming Fights Dataset\")\n",
    "show_all_null_columns(history_df, \"Historical Fights Dataset\")\n",
    "show_all_null_columns(rankings_df, \"Rankings Dataset\")"
   ]
  },
  {
   "cell_type": "markdown",
   "id": "8103e895-8239-46e5-a206-39a872535961",
   "metadata": {},
   "source": [
    "No columns in relevant datasets with all null values, so no entire columns will be dropped right now. Mising values in Upcoming fights dataset are what we aim to predict so we will analyze the value of these columns and decide if they are critical or not then drop them."
   ]
  },
  {
   "cell_type": "code",
   "execution_count": 14,
   "id": "7aa70363-9e79-40a2-ba5c-a84aa10d67d8",
   "metadata": {},
   "outputs": [
    {
     "name": "stdout",
     "output_type": "stream",
     "text": [
      "\n",
      "Missing Values in Fighters Dataset:\n",
      "+---+------------+--------+----------+----+----------+--------+-------+------+------+-----------+------------+----+-------+---------------+-------------+----------+-------+---------+-----------------+---------------+------------+\n",
      "|url|fighter_name|nickname|birth_date| age|death_date|location|country|height|weight|association|weight_class|wins|wins_ko|wins_submission|wins_decision|wins_other|lossess|losses_ko|losses_submission|losses_decision|losses_other|\n",
      "+---+------------+--------+----------+----+----------+--------+-------+------+------+-----------+------------+----+-------+---------------+-------------+----------+-------+---------+-----------------+---------------+------------+\n",
      "|  0|           3|    1946|      1115|1149|      5114|     512|     22|     0|     0|        727|          30|   0|      0|              0|            0|      4722|      0|        0|                0|              0|        4722|\n",
      "+---+------------+--------+----------+----+----------+--------+-------+------+------+-----------+------------+----+-------+---------------+-------------+----------+-------+---------+-----------------+---------------+------------+\n",
      "\n",
      "\n",
      "Missing Values in Upcoming Fights Dataset:\n",
      "+----------+-----------+-------+--------+----------------+-----------------+----+--------+-------+------+---------+-----------+------+--------------+---------------------+--------------------+---------+-------------------+----------------+-------------+---------------+------------+--------------------+----------+---------------------+-------------------+--------------------------+-----------------------+---------------------------+------------+--------------------+---------------------------+--------+----------+-------------+------------+-------------+--------------------+-------------------+--------+------------------+---------------+------------+--------------+-----------+-------------------+---------+--------------------+------------------+-------------------------+----------------------+--------------------------+-----------+-------------------+--------------------------+-------+---------+------------+-----------+------------+------+-------+-------------+------------+-------------------+------+-------+-------------+-----------------+-----+------+---------+--------+------+---------+------------+--------+----------+------------+------------+---------------+-------------------+-----------------+------------------+----------------+---------------------+-----------------+-----------------+----------------+------------------+-----------------+--------------+--------+---------------+-------------------+-----------------+------------------+----------------+---------------------+-----------------+-----------------+----------------+------------------+-----------------+--------------+--------+----------+------+-------------+-----------+---------------+------------------+----------+-----------+--------+--------+-------+-------+\n",
      "|RedFighter|BlueFighter|RedOdds|BlueOdds|RedExpectedValue|BlueExpectedValue|Date|Location|Country|Winner|TitleBout|WeightClass|Gender|NumberOfRounds|BlueCurrentLoseStreak|BlueCurrentWinStreak|BlueDraws|BlueAvgSigStrLanded|BlueAvgSigStrPct|BlueAvgSubAtt|BlueAvgTDLanded|BlueAvgTDPct|BlueLongestWinStreak|BlueLosses|BlueTotalRoundsFought|BlueTotalTitleBouts|BlueWinsByDecisionMajority|BlueWinsByDecisionSplit|BlueWinsByDecisionUnanimous|BlueWinsByKO|BlueWinsBySubmission|BlueWinsByTKODoctorStoppage|BlueWins|BlueStance|BlueHeightCms|BlueReachCms|BlueWeightLbs|RedCurrentLoseStreak|RedCurrentWinStreak|RedDraws|RedAvgSigStrLanded|RedAvgSigStrPct|RedAvgSubAtt|RedAvgTDLanded|RedAvgTDPct|RedLongestWinStreak|RedLosses|RedTotalRoundsFought|RedTotalTitleBouts|RedWinsByDecisionMajority|RedWinsByDecisionSplit|RedWinsByDecisionUnanimous|RedWinsByKO|RedWinsBySubmission|RedWinsByTKODoctorStoppage|RedWins|RedStance|RedHeightCms|RedReachCms|RedWeightLbs|RedAge|BlueAge|LoseStreakDif|WinStreakDif|LongestWinStreakDif|WinDif|LossDif|TotalRoundDif|TotalTitleBoutDif|KODif|SubDif|HeightDif|ReachDif|AgeDif|SigStrDif|AvgSubAttDif|AvgTDDif|EmptyArena|BMatchWCRank|RMatchWCRank|RWFlyweightRank|RWFeatherweightRank|RWStrawweightRank|RWBantamweightRank|RHeavyweightRank|RLightHeavyweightRank|RMiddleweightRank|RWelterweightRank|RLightweightRank|RFeatherweightRank|RBantamweightRank|RFlyweightRank|RPFPRank|BWFlyweightRank|BWFeatherweightRank|BWStrawweightRank|BWBantamweightRank|BHeavyweightRank|BLightHeavyweightRank|BMiddleweightRank|BWelterweightRank|BLightweightRank|BFeatherweightRank|BBantamweightRank|BFlyweightRank|BPFPRank|BetterRank|Finish|FinishDetails|FinishRound|FinishRoundTime|TotalFightTimeSecs|RedDecOdds|BlueDecOdds|RSubOdds|BSubOdds|RKOOdds|BKOOdds|\n",
      "+----------+-----------+-------+--------+----------------+-----------------+----+--------+-------+------+---------+-----------+------+--------------+---------------------+--------------------+---------+-------------------+----------------+-------------+---------------+------------+--------------------+----------+---------------------+-------------------+--------------------------+-----------------------+---------------------------+------------+--------------------+---------------------------+--------+----------+-------------+------------+-------------+--------------------+-------------------+--------+------------------+---------------+------------+--------------+-----------+-------------------+---------+--------------------+------------------+-------------------------+----------------------+--------------------------+-----------+-------------------+--------------------------+-------+---------+------------+-----------+------------+------+-------+-------------+------------+-------------------+------+-------+-------------+-----------------+-----+------+---------+--------+------+---------+------------+--------+----------+------------+------------+---------------+-------------------+-----------------+------------------+----------------+---------------------+-----------------+-----------------+----------------+------------------+-----------------+--------------+--------+---------------+-------------------+-----------------+------------------+----------------+---------------------+-----------------+-----------------+----------------+------------------+-----------------+--------------+--------+----------+------+-------------+-----------+---------------+------------------+----------+-----------+--------+--------+-------+-------+\n",
      "|         0|          0|      0|       0|               0|                0|   0|       0|      0|    14|        0|          0|     0|             0|                    0|                   0|        0|                  0|               0|            0|              0|           0|                   0|         0|                    0|                  0|                         0|                      0|                          0|           0|                   0|                          0|       0|         0|            0|           0|            0|                   0|                  0|       0|                 0|              0|           0|             0|          0|                  0|        0|                   0|                 0|                        0|                     0|                         0|          0|                  0|                         0|      0|        0|           0|          0|           0|     0|      0|            0|           0|                  0|     0|      0|            0|                0|    0|     0|        0|       0|     0|        0|           0|       0|        14|          10|           6|             14|                 14|               14|                14|              13|                   13|               14|               12|              14|                12|               14|            12|      13|             14|                 14|               14|                14|              13|                   13|               14|               13|              14|                13|               14|            14|      14|         0|    14|           14|         14|             14|                14|         0|          0|       0|       0|      0|      0|\n",
      "+----------+-----------+-------+--------+----------------+-----------------+----+--------+-------+------+---------+-----------+------+--------------+---------------------+--------------------+---------+-------------------+----------------+-------------+---------------+------------+--------------------+----------+---------------------+-------------------+--------------------------+-----------------------+---------------------------+------------+--------------------+---------------------------+--------+----------+-------------+------------+-------------+--------------------+-------------------+--------+------------------+---------------+------------+--------------+-----------+-------------------+---------+--------------------+------------------+-------------------------+----------------------+--------------------------+-----------+-------------------+--------------------------+-------+---------+------------+-----------+------------+------+-------+-------------+------------+-------------------+------+-------+-------------+-----------------+-----+------+---------+--------+------+---------+------------+--------+----------+------------+------------+---------------+-------------------+-----------------+------------------+----------------+---------------------+-----------------+-----------------+----------------+------------------+-----------------+--------------+--------+---------------+-------------------+-----------------+------------------+----------------+---------------------+-----------------+-----------------+----------------+------------------+-----------------+--------------+--------+----------+------+-------------+-----------+---------------+------------------+----------+-----------+--------+--------+-------+-------+\n",
      "\n",
      "\n",
      "Missing Values in Historical Fights Dataset:\n",
      "+----------+-----------+-------+--------+----------------+-----------------+----+--------+-------+------+---------+-----------+------+--------------+---------------------+--------------------+---------+-------------------+----------------+-------------+---------------+------------+--------------------+----------+---------------------+-------------------+--------------------------+-----------------------+---------------------------+------------+--------------------+---------------------------+--------+----------+-------------+------------+-------------+--------------------+-------------------+--------+------------------+---------------+------------+--------------+-----------+-------------------+---------+--------------------+------------------+-------------------------+----------------------+--------------------------+-----------+-------------------+--------------------------+-------+---------+------------+-----------+------------+------+-------+-------------+------------+-------------------+------+-------+-------------+-----------------+-----+------+---------+--------+------+---------+------------+--------+----------+------------+------------+---------------+-------------------+-----------------+------------------+----------------+---------------------+-----------------+-----------------+----------------+------------------+-----------------+--------------+--------+---------------+-------------------+-----------------+------------------+----------------+---------------------+-----------------+-----------------+----------------+------------------+-----------------+--------------+--------+----------+------+-------------+-----------+---------------+------------------+----------+-----------+--------+--------+-------+-------+\n",
      "|RedFighter|BlueFighter|RedOdds|BlueOdds|RedExpectedValue|BlueExpectedValue|Date|Location|Country|Winner|TitleBout|WeightClass|Gender|NumberOfRounds|BlueCurrentLoseStreak|BlueCurrentWinStreak|BlueDraws|BlueAvgSigStrLanded|BlueAvgSigStrPct|BlueAvgSubAtt|BlueAvgTDLanded|BlueAvgTDPct|BlueLongestWinStreak|BlueLosses|BlueTotalRoundsFought|BlueTotalTitleBouts|BlueWinsByDecisionMajority|BlueWinsByDecisionSplit|BlueWinsByDecisionUnanimous|BlueWinsByKO|BlueWinsBySubmission|BlueWinsByTKODoctorStoppage|BlueWins|BlueStance|BlueHeightCms|BlueReachCms|BlueWeightLbs|RedCurrentLoseStreak|RedCurrentWinStreak|RedDraws|RedAvgSigStrLanded|RedAvgSigStrPct|RedAvgSubAtt|RedAvgTDLanded|RedAvgTDPct|RedLongestWinStreak|RedLosses|RedTotalRoundsFought|RedTotalTitleBouts|RedWinsByDecisionMajority|RedWinsByDecisionSplit|RedWinsByDecisionUnanimous|RedWinsByKO|RedWinsBySubmission|RedWinsByTKODoctorStoppage|RedWins|RedStance|RedHeightCms|RedReachCms|RedWeightLbs|RedAge|BlueAge|LoseStreakDif|WinStreakDif|LongestWinStreakDif|WinDif|LossDif|TotalRoundDif|TotalTitleBoutDif|KODif|SubDif|HeightDif|ReachDif|AgeDif|SigStrDif|AvgSubAttDif|AvgTDDif|EmptyArena|BMatchWCRank|RMatchWCRank|RWFlyweightRank|RWFeatherweightRank|RWStrawweightRank|RWBantamweightRank|RHeavyweightRank|RLightHeavyweightRank|RMiddleweightRank|RWelterweightRank|RLightweightRank|RFeatherweightRank|RBantamweightRank|RFlyweightRank|RPFPRank|BWFlyweightRank|BWFeatherweightRank|BWStrawweightRank|BWBantamweightRank|BHeavyweightRank|BLightHeavyweightRank|BMiddleweightRank|BWelterweightRank|BLightweightRank|BFeatherweightRank|BBantamweightRank|BFlyweightRank|BPFPRank|BetterRank|Finish|FinishDetails|FinishRound|FinishRoundTime|TotalFightTimeSecs|RedDecOdds|BlueDecOdds|RSubOdds|BSubOdds|RKOOdds|BKOOdds|\n",
      "+----------+-----------+-------+--------+----------------+-----------------+----+--------+-------+------+---------+-----------+------+--------------+---------------------+--------------------+---------+-------------------+----------------+-------------+---------------+------------+--------------------+----------+---------------------+-------------------+--------------------------+-----------------------+---------------------------+------------+--------------------+---------------------------+--------+----------+-------------+------------+-------------+--------------------+-------------------+--------+------------------+---------------+------------+--------------+-----------+-------------------+---------+--------------------+------------------+-------------------------+----------------------+--------------------------+-----------+-------------------+--------------------------+-------+---------+------------+-----------+------------+------+-------+-------------+------------+-------------------+------+-------+-------------+-----------------+-----+------+---------+--------+------+---------+------------+--------+----------+------------+------------+---------------+-------------------+-----------------+------------------+----------------+---------------------+-----------------+-----------------+----------------+------------------+-----------------+--------------+--------+---------------+-------------------+-----------------+------------------+----------------+---------------------+-----------------+-----------------+----------------+------------------+-----------------+--------------+--------+----------+------+-------------+-----------+---------------+------------------+----------+-----------+--------+--------+-------+-------+\n",
      "|         0|          0|    227|     226|             227|              226|   0|       0|      0|     0|        0|          0|     0|             0|                    0|                   0|        0|                930|             765|          832|            833|         842|                   0|         0|                    0|                  0|                         0|                      0|                          0|           0|                   0|                          0|       0|         3|            0|           0|            0|                   0|                  0|       0|               455|            357|         357|           357|        367|                  0|        0|                   0|                 0|                        0|                     0|                         0|          0|                  0|                         0|      0|        0|           0|          0|           0|     0|      0|            0|           0|                  0|     0|      0|            0|                0|    0|     0|        0|       0|     0|        0|           0|       0|      1472|        5318|        4743|           6418|               6505|             6368|              6360|            6329|                 6331|             6332|             6325|            6330|              6339|             6333|          6328|    6262|           6441|               6513|             6414|              6407|            6367|                 6395|             6377|             6396|            6394|              6391|             6395|          6384|    6447|         0|   238|         3631|        622|            622|               622|      1087|       1116|    1336|    1359|   1334|   1360|\n",
      "+----------+-----------+-------+--------+----------------+-----------------+----+--------+-------+------+---------+-----------+------+--------------+---------------------+--------------------+---------+-------------------+----------------+-------------+---------------+------------+--------------------+----------+---------------------+-------------------+--------------------------+-----------------------+---------------------------+------------+--------------------+---------------------------+--------+----------+-------------+------------+-------------+--------------------+-------------------+--------+------------------+---------------+------------+--------------+-----------+-------------------+---------+--------------------+------------------+-------------------------+----------------------+--------------------------+-----------+-------------------+--------------------------+-------+---------+------------+-----------+------------+------+-------+-------------+------------+-------------------+------+-------+-------------+-----------------+-----+------+---------+--------+------+---------+------------+--------+----------+------------+------------+---------------+-------------------+-----------------+------------------+----------------+---------------------+-----------------+-----------------+----------------+------------------+-----------------+--------------+--------+---------------+-------------------+-----------------+------------------+----------------+---------------------+-----------------+-----------------+----------------+------------------+-----------------+--------------+--------+----------+------+-------------+-----------+---------------+------------------+----------+-----------+--------+--------+-------+-------+\n",
      "\n",
      "\n",
      "Missing Values in Rankings Dataset:\n",
      "+----+-----------+-------+----+\n",
      "|date|weightclass|fighter|rank|\n",
      "+----+-----------+-------+----+\n",
      "|   0|          0|      0|   0|\n",
      "+----+-----------+-------+----+\n",
      "\n"
     ]
    }
   ],
   "source": [
    "def check_missing_values(df, dataset_name):\n",
    "    print(f\"\\nMissing Values in {dataset_name}:\")\n",
    "    df.select([sum(col(c).isNull().cast(\"int\")).alias(c) for c in df.columns]).show()\n",
    "\n",
    "check_missing_values(fighters_df, \"Fighters Dataset\")\n",
    "check_missing_values(upcoming_df, \"Upcoming Fights Dataset\")\n",
    "check_missing_values(history_df, \"Historical Fights Dataset\")\n",
    "check_missing_values(rankings_df, \"Rankings Dataset\")"
   ]
  },
  {
   "cell_type": "markdown",
   "id": "cd61d64d-48bc-47ee-b035-dda4747ad745",
   "metadata": {},
   "source": [
    "For starters in missing values we are gonna drop rows with critical missing values, meaning values that are essential to our\n",
    "analysis and modeling. That if missing it would impact the integrity of our data. This only applies to the fighters dataset as it is the only one missing critical values.\n",
    "\n",
    "We have defined these as our critical values:\n",
    "1. Fighter Identification\n",
    "- fighter_name\n",
    "- Country\n",
    "2. Physical Attributes\n",
    "- height\n",
    "- weight\n",
    "3. Performance Metrics\n",
    "- wins\n",
    "- lossess\n",
    "4. Age and Birthdate\n",
    "- age\n",
    "- birth_date"
   ]
  },
  {
   "cell_type": "code",
   "execution_count": 15,
   "id": "21190cd8-a07d-458e-9c7f-9641c8571d29",
   "metadata": {},
   "outputs": [],
   "source": [
    "# Define critical columns for each dataset\n",
    "critical_columns_fighters = [\"fighter_name\", \"country\", \"height\", \"weight\", \"wins\", \"lossess\", \"age\", \"birth_date\"]"
   ]
  },
  {
   "cell_type": "code",
   "execution_count": 16,
   "id": "620b746f-0684-429e-a559-70e0ed84833e",
   "metadata": {},
   "outputs": [],
   "source": [
    "# Function to drop rows with critical missing values\n",
    "def drop_critical_missing_values(df, critical_columns, dataset_name):\n",
    "    print(f\"\\nChecking Missing Values in {dataset_name} Critical Columns:\")\n",
    "    df.select([\n",
    "        sum(col(c).isNull().cast(\"int\")).alias(c) for c in critical_columns\n",
    "    ]).show()\n",
    "    \n",
    "    # Drop rows with missing values in critical columns\n",
    "    df_clean = df.dropna(subset=critical_columns)\n",
    "    \n",
    "    print(f\"{dataset_name} after dropping rows with critical missing values:\")\n",
    "    df_clean.show(5)\n",
    "    \n",
    "    return df_clean"
   ]
  },
  {
   "cell_type": "code",
   "execution_count": 17,
   "id": "74b1a1d7-5a71-4b80-ac20-bbf68c8172c8",
   "metadata": {},
   "outputs": [
    {
     "name": "stdout",
     "output_type": "stream",
     "text": [
      "\n",
      "Checking Missing Values in Fighters Dataset Critical Columns:\n",
      "+------------+-------+------+------+----+-------+----+----------+\n",
      "|fighter_name|country|height|weight|wins|lossess| age|birth_date|\n",
      "+------------+-------+------+------+----+-------+----+----------+\n",
      "|           3|     22|     0|     0|   0|      0|1149|      1115|\n",
      "+------------+-------+------+------+----+-------+----+----------+\n",
      "\n",
      "Fighters Dataset after dropping rows with critical missing values:\n",
      "+--------------------+------------------+------------+----------+---+----------+--------------------+-------------+------+-------+---------------+-----------------+----+-------+---------------+-------------+----------+-------+---------+-----------------+---------------+------------+\n",
      "|                 url|      fighter_name|    nickname|birth_date|age|death_date|            location|      country|height| weight|    association|     weight_class|wins|wins_ko|wins_submission|wins_decision|wins_other|lossess|losses_ko|losses_submission|losses_decision|losses_other|\n",
      "+--------------------+------------------+------------+----------+---+----------+--------------------+-------------+------+-------+---------------+-----------------+----+-------+---------------+-------------+----------+-------+---------+-----------------+---------------+------------+\n",
      "|/fighter/Kharun-A...|Kharun Atlangeriev|    Predator|05/10/1992| 28|      NULL|                NULL|       Russia|5'10\"\"|155 lbs|       OFS Team|      Lightweight|  11|      5|              5|            1|      NULL|     11|        0|                1|              1|        NULL|\n",
      "|/fighter/Ryan-Kee...|       Ryan Keenan|    Who Dat?|15/06/1985| 36|      NULL| Windermere, Florida|United States| 6'0\"\"|155 lbs| Gracie Orlando|      Lightweight|   6|      3|              3|            0|      NULL|      6|        1|                1|              0|        NULL|\n",
      "|/fighter/Dustin-J...|     Dustin Jacoby|  The Hanyak|04/04/1988| 33|      NULL|Arenzville, Illinois|United States| 6'4\"\"|205 lbs|      Factory X|Light Heavyweight|  14|      9|              1|            4|      NULL|     14|        1|                2|              2|        NULL|\n",
      "|/fighter/Richards...|Richardson Moreira|Rick Monstro|31/03/1984| 37|      NULL| Campinas, Sao Paulo|       Brazil| 6'2\"\"|205 lbs|  Team Nogueira|Light Heavyweight|   8|      2|              5|            1|      NULL|      8|        1|                1|              3|        NULL|\n",
      "|/fighter/Chris-Ha...|     Chris Haseman|  The Hammer|02/06/1969| 52|      NULL|                NULL|    Australia|5'11\"\"|198 lbs|Rings Australia|Light Heavyweight|  20|      2|             14|            3|         1|     20|        8|                3|              6|           0|\n",
      "+--------------------+------------------+------------+----------+---+----------+--------------------+-------------+------+-------+---------------+-----------------+----+-------+---------------+-------------+----------+-------+---------+-----------------+---------------+------------+\n",
      "only showing top 5 rows\n",
      "\n"
     ]
    }
   ],
   "source": [
    "fighters_df_clean = drop_critical_missing_values(fighters_df, critical_columns_fighters, \"Fighters Dataset\")"
   ]
  },
  {
   "cell_type": "markdown",
   "id": "803f0020-1047-471a-ba6b-020475b1dbde",
   "metadata": {},
   "source": [
    "Remove Duplicates"
   ]
  },
  {
   "cell_type": "code",
   "execution_count": 18,
   "id": "af9be498-0765-4a21-a761-e23cb0ad15b2",
   "metadata": {},
   "outputs": [
    {
     "name": "stdout",
     "output_type": "stream",
     "text": [
      "\n",
      "Checking for duplicates in Fighters Dataset:\n",
      "Initial count: 3998\n",
      "No duplicate rows found.\n",
      "Final count after removing duplicates: 3998\n",
      "Number of duplicates removed: 0\n",
      "\n",
      "Checking for duplicates in Upcoming Fights Dataset:\n",
      "Initial count: 14\n",
      "No duplicate rows found.\n",
      "Final count after removing duplicates: 14\n",
      "Number of duplicates removed: 0\n",
      "\n",
      "Checking for duplicates in Historical Fights Dataset:\n",
      "Initial count: 6514\n",
      "No duplicate rows found.\n",
      "Final count after removing duplicates: 6514\n",
      "Number of duplicates removed: 0\n",
      "\n",
      "Checking for duplicates in Rankings Dataset:\n",
      "Initial count: 86011\n",
      "No duplicate rows found.\n",
      "Final count after removing duplicates: 86011\n",
      "Number of duplicates removed: 0\n"
     ]
    }
   ],
   "source": [
    "# Function to check and remove duplicates\n",
    "def remove_duplicates(df, dataset_name):\n",
    "    print(f\"\\nChecking for duplicates in {dataset_name}:\")\n",
    "    initial_count = df.count()\n",
    "    print(f\"Initial count: {initial_count}\")\n",
    "\n",
    "    # Check for duplicate rows\n",
    "    duplicates = df.groupBy(df.columns).count().filter(\"count > 1\")\n",
    "    if duplicates.count() > 0:\n",
    "        print(\"Duplicate rows found:\")\n",
    "        duplicates.show()\n",
    "    else:\n",
    "        print(\"No duplicate rows found.\")\n",
    "\n",
    "    # Remove duplicates\n",
    "    df_clean = df.dropDuplicates()\n",
    "\n",
    "    final_count = df_clean.count()\n",
    "    print(f\"Final count after removing duplicates: {final_count}\")\n",
    "    print(f\"Number of duplicates removed: {initial_count - final_count}\")\n",
    "\n",
    "    return df_clean\n",
    "\n",
    "# Apply the function to each dataset\n",
    "fighters_df_clean = remove_duplicates(fighters_df_clean, \"Fighters Dataset\")\n",
    "upcoming_df_clean = remove_duplicates(upcoming_df, \"Upcoming Fights Dataset\")\n",
    "history_df_clean = remove_duplicates(history_df, \"Historical Fights Dataset\")\n",
    "rankings_df_clean = remove_duplicates(rankings_df, \"Rankings Dataset\")"
   ]
  },
  {
   "cell_type": "markdown",
   "id": "b9b5d3b8-a98f-4dc7-b7c5-cefa561d132c",
   "metadata": {},
   "source": [
    "Removing Unncecesary Columns to our Analysis"
   ]
  },
  {
   "cell_type": "code",
   "execution_count": 19,
   "id": "2451f098-62a8-41a4-b032-ca1d0f82877b",
   "metadata": {},
   "outputs": [],
   "source": [
    "#Columns to drop\n",
    "fighters_columns_to_drop = [\n",
    "    \"url\",\n",
    "    \"death_date\",\n",
    "    \"losses_other\",\n",
    "    \"wins_other\"\n",
    "]\n",
    "\n",
    "upcoming_columns_to_drop = [\n",
    "    \"EmptyArena\",\n",
    "    \"BMatchWCRank\",\n",
    "    \"RMatchWCRank\",\n",
    "    \"RWFlyweightRank\",\n",
    "    \"RWFeatherweightRank\",\n",
    "    \"RWStrawweightRank\",\n",
    "    \"RWBantamweightRank\",\n",
    "    \"RHeavyweightRank\",\n",
    "    \"RLightHeavyweightRank\",\n",
    "    \"RMiddleweightRank\",\n",
    "    \"RWelterweightRank\",\n",
    "    \"RLightweightRank\",\n",
    "    \"RFeatherweightRank\",\n",
    "    \"RBantamweightRank\",\n",
    "    \"RFlyweightRank\",\n",
    "    \"RPFPRank\",\n",
    "    \"BWFlyweightRank\",\n",
    "    \"BWFeatherweightRank\",\n",
    "    \"BWStrawweightRank\",\n",
    "    \"BWBantamweightRank\",\n",
    "    \"BHeavyweightRank\",\n",
    "    \"BLightHeavyweightRank\",\n",
    "    \"BMiddleweightRank\",\n",
    "    \"BWelterweightRank\",\n",
    "    \"BLightweightRank\",\n",
    "    \"BFeatherweightRank\",\n",
    "    \"BBantamweightRank\",\n",
    "    \"BFlyweightRank\",\n",
    "    \"BPFPRank\",\n",
    "    \"BetterRank\",\n",
    "    \"Finish\",\n",
    "    \"FinishDetails\",\n",
    "    \"FinishRound\",\n",
    "    \"FinishRoundTime\",\n",
    "    \"TotalFightTimeSecs\"\n",
    "]\n",
    "\n",
    "history_columns_to_drop = [\n",
    "    \"RedExpectedValue\",\n",
    "    \"BlueExpectedValue\",\n",
    "    \"EmptyArena\",\n",
    "    \"BMatchWCRank\",\n",
    "    \"RMatchWCRank\",\n",
    "    \"RWFlyweightRank\",\n",
    "    \"RWFeatherweightRank\",\n",
    "    \"RWStrawweightRank\",\n",
    "    \"RWBantamweightRank\",\n",
    "    \"RHeavyweightRank\",\n",
    "    \"RLightHeavyweightRank\",\n",
    "    \"RMiddleweightRank\",\n",
    "    \"RWelterweightRank\",\n",
    "    \"RLightweightRank\",\n",
    "    \"RFeatherweightRank\",\n",
    "    \"RBantamweightRank\",\n",
    "    \"RFlyweightRank\",\n",
    "    \"RPFPRank\",\n",
    "    \"BWFlyweightRank\",\n",
    "    \"BWFeatherweightRank\",\n",
    "    \"BWStrawweightRank\",\n",
    "    \"BWBantamweightRank\",\n",
    "    \"BHeavyweightRank\",\n",
    "    \"BLightHeavyweightRank\",\n",
    "    \"BMiddleweightRank\",\n",
    "    \"BWelterweightRank\",\n",
    "    \"BLightweightRank\",\n",
    "    \"BFeatherweightRank\",\n",
    "    \"BBantamweightRank\",\n",
    "    \"BFlyweightRank\",\n",
    "    \"BPFPRank\"\n",
    "]"
   ]
  },
  {
   "cell_type": "markdown",
   "id": "34dc3322-5875-4e82-8875-2cb18c8bf235",
   "metadata": {},
   "source": [
    "Decided to not drop any columns for rankings as all columns are important to our analysis and don't have a significant amount of missing values."
   ]
  },
  {
   "cell_type": "code",
   "execution_count": 20,
   "id": "0caa6200-7b11-4fc0-9f24-b9ea112ae2bb",
   "metadata": {},
   "outputs": [
    {
     "name": "stdout",
     "output_type": "stream",
     "text": [
      "Cleaned Fighters Dataset:\n",
      "+------------------+--------------+----------+----+--------------------+-------------+------+-------+--------------+-----------------+----+-------+---------------+-------------+-------+---------+-----------------+---------------+\n",
      "|      fighter_name|      nickname|birth_date| age|            location|      country|height| weight|   association|     weight_class|wins|wins_ko|wins_submission|wins_decision|lossess|losses_ko|losses_submission|losses_decision|\n",
      "+------------------+--------------+----------+----+--------------------+-------------+------+-------+--------------+-----------------+----+-------+---------------+-------------+-------+---------+-----------------+---------------+\n",
      "|Kharun Atlangeriev|      Predator|05/10/1992|  28|                NULL|       Russia|5'10\"\"|155 lbs|      OFS Team|      Lightweight|  11|      5|              5|            1|     11|        0|                1|              1|\n",
      "|       Shojin Miki|Mini Margarito|      NULL|NULL|    Honolulu, Hawaii|United States| 5'9\"\"|125 lbs|   HMC Academy|        Flyweight|   6|      2|              4|            0|      6|        2|                0|              5|\n",
      "|       Ryan Keenan|      Who Dat?|15/06/1985|  36| Windermere, Florida|United States| 6'0\"\"|155 lbs|Gracie Orlando|      Lightweight|   6|      3|              3|            0|      6|        1|                1|              0|\n",
      "|     Dustin Jacoby|    The Hanyak|04/04/1988|  33|Arenzville, Illinois|United States| 6'4\"\"|205 lbs|     Factory X|Light Heavyweight|  14|      9|              1|            4|     14|        1|                2|              2|\n",
      "|Richardson Moreira|  Rick Monstro|31/03/1984|  37| Campinas, Sao Paulo|       Brazil| 6'2\"\"|205 lbs| Team Nogueira|Light Heavyweight|   8|      2|              5|            1|      8|        1|                1|              3|\n",
      "+------------------+--------------+----------+----+--------------------+-------------+------+-------+--------------+-----------------+----+-------+---------------+-------------+-------+---------+-----------------+---------------+\n",
      "only showing top 5 rows\n",
      "\n",
      "Cleaned Upcoming Fights Dataset:\n",
      "+-----------------+-----------------+-------+--------+----------------+-----------------+----------+--------------------+-------+------+---------+-------------+------+--------------+---------------------+--------------------+---------+-------------------+----------------+-------------+---------------+------------+--------------------+----------+---------------------+-------------------+--------------------------+-----------------------+---------------------------+------------+--------------------+---------------------------+--------+----------+-------------+------------+-------------+--------------------+-------------------+--------+------------------+---------------+------------+--------------+-----------+-------------------+---------+--------------------+------------------+-------------------------+----------------------+--------------------------+-----------+-------------------+--------------------------+-------+---------+------------+-----------+------------+------+-------+-------------+------------+-------------------+------+-------+-------------+-----------------+-----+------+---------+--------+------+---------+------------+--------+----------+-----------+--------+--------+-------+-------+\n",
      "|       RedFighter|      BlueFighter|RedOdds|BlueOdds|RedExpectedValue|BlueExpectedValue|      Date|            Location|Country|Winner|TitleBout|  WeightClass|Gender|NumberOfRounds|BlueCurrentLoseStreak|BlueCurrentWinStreak|BlueDraws|BlueAvgSigStrLanded|BlueAvgSigStrPct|BlueAvgSubAtt|BlueAvgTDLanded|BlueAvgTDPct|BlueLongestWinStreak|BlueLosses|BlueTotalRoundsFought|BlueTotalTitleBouts|BlueWinsByDecisionMajority|BlueWinsByDecisionSplit|BlueWinsByDecisionUnanimous|BlueWinsByKO|BlueWinsBySubmission|BlueWinsByTKODoctorStoppage|BlueWins|BlueStance|BlueHeightCms|BlueReachCms|BlueWeightLbs|RedCurrentLoseStreak|RedCurrentWinStreak|RedDraws|RedAvgSigStrLanded|RedAvgSigStrPct|RedAvgSubAtt|RedAvgTDLanded|RedAvgTDPct|RedLongestWinStreak|RedLosses|RedTotalRoundsFought|RedTotalTitleBouts|RedWinsByDecisionMajority|RedWinsByDecisionSplit|RedWinsByDecisionUnanimous|RedWinsByKO|RedWinsBySubmission|RedWinsByTKODoctorStoppage|RedWins|RedStance|RedHeightCms|RedReachCms|RedWeightLbs|RedAge|BlueAge|LoseStreakDif|WinStreakDif|LongestWinStreakDif|WinDif|LossDif|TotalRoundDif|TotalTitleBoutDif|KODif|SubDif|HeightDif|ReachDif|AgeDif|SigStrDif|AvgSubAttDif|AvgTDDif|RedDecOdds|BlueDecOdds|RSubOdds|BSubOdds|RKOOdds|BKOOdds|\n",
      "+-----------------+-----------------+-------+--------+----------------+-----------------+----------+--------------------+-------+------+---------+-------------+------+--------------+---------------------+--------------------+---------+-------------------+----------------+-------------+---------------+------------+--------------------+----------+---------------------+-------------------+--------------------------+-----------------------+---------------------------+------------+--------------------+---------------------------+--------+----------+-------------+------------+-------------+--------------------+-------------------+--------+------------------+---------------+------------+--------------+-----------+-------------------+---------+--------------------+------------------+-------------------------+----------------------+--------------------------+-----------+-------------------+--------------------------+-------+---------+------------+-----------+------------+------+-------+-------------+------------+-------------------+------+-------+-------------+-----------------+-----+------+---------+--------+------+---------+------------+--------+----------+-----------+--------+--------+-------+-------+\n",
      "|Alexandre Pantoja|      Kai Asakura|   -250|     215|            40.0|            215.0|2024-12-07|Las Vegas, Nevada...|    USA|  NULL|     true|    Flyweight|  MALE|             5|                    0|                   0|        0|                0.0|             0.0|          0.0|            0.0|         0.0|                   0|         0|                    0|                  0|                         0|                      0|                          0|           0|                   0|                          0|       0|  Orthodox|       172.72|      175.26|          125|                   0|                  6|       0|              4.41|           0.49|         0.8|          2.61|       0.47|                  6|        3|                  42|                 3|                        0|                     2|                         4|          2|                  4|                         0|     12| Orthodox|       165.1|     170.18|         125|    34|     31|            0|          -6|                 -6|   -12|     -3|          -42|               -3|   -2|    -4|     7.62|    5.08|    -3|    -4.41|        -0.8|   -2.61|       300|        800|     150|    2500|    400|    350|\n",
      "|Shavkat Rakhmonov|Ian Machado Garry|   -210|     295|          47.619|            295.0|2024-12-07|Las Vegas, Nevada...|    USA|  NULL|    false| Welterweight|  MALE|             3|                    0|                   8|        0|                5.5|            0.55|          0.3|           0.77|        0.55|                   8|         0|                   20|                  0|                         0|                      1|                          4|           3|                   0|                          0|       8|  Orthodox|        190.5|      187.96|          170|                   0|                  6|       0|              4.12|           0.61|         1.8|          1.49|       0.29|                  6|        0|                  11|                 0|                        0|                     0|                         0|          1|                  5|                         0|      6| Orthodox|      185.42|     195.58|         170|    30|     27|            0|           2|                  2|     2|      0|            9|                0|    2|    -5|     5.08|   -7.62|    -3|     1.38|        -1.5|   -0.72|       250|        650|     180|    3000|    240|    700|\n",
      "|       Ciryl Gane| Alexander Volkov|   -380|     300|         26.3158|            300.0|2024-12-07|Las Vegas, Nevada...|    USA|  NULL|    false|  Heavyweight|  MALE|             3|                    0|                   4|        0|               5.13|            0.57|          0.2|           0.45|        0.63|                   4|         4|                   44|                  0|                         0|                      1|                          4|           6|                   1|                          0|      12|  Orthodox|       200.66|       203.2|          250|                   0|                  1|       0|              5.49|            0.6|         0.5|          0.58|       0.21|                  7|        2|                  33|                 3|                        0|                     0|                         3|          4|                  2|                         0|      9| Orthodox|      193.04|     205.74|         245|    34|     36|            0|           3|                 -3|     3|      2|           11|               -3|    2|    -1|     7.62|   -2.54|     2|    -0.36|        -0.3|   -0.13|      -160|        450|    1100|    3000|    350|   1100|\n",
      "|   Bryce Mitchell|      Kron Gracie|   -950|     625|         10.5263|            625.0|2024-12-07|Las Vegas, Nevada...|    USA|  NULL|    false|Featherweight|  MALE|             3|                    2|                   0|        0|               3.74|            0.44|          0.5|           0.47|        0.25|                   1|         2|                    7|                  0|                         0|                      0|                          0|           0|                   1|                          0|       1|  Southpaw|       175.26|       177.8|          145|                   1|                  0|       0|               2.3|           0.58|         1.6|          3.45|       0.41|                  6|        2|                  22|                 0|                        1|                     0|                         5|          0|                  1|                         0|      7| Southpaw|       177.8|      177.8|         145|    30|     36|            1|           0|                 -5|    -6|      0|          -15|                0|    0|     0|    -2.54|     0.0|     6|     1.44|        -1.1|   -2.98|      -200|       1100|     380|    1400|    500|   4000|\n",
      "|    Nate Landwehr|       Dooho Choi|   -130|     110|         76.9231|            110.0|2024-12-07|Las Vegas, Nevada...|    USA|  NULL|    false|Featherweight|  MALE|             3|                    0|                   1|        1|               4.41|            0.53|          0.8|           0.75|        0.37|                   3|         3|                   15|                  0|                         0|                      0|                          0|           4|                   0|                          0|       4|  Orthodox|        177.8|       177.8|          145|                   0|                  1|       0|              6.25|           0.46|         1.0|           1.0|       0.41|                  3|        3|                  17|                 0|                        1|                     0|                         1|          1|                  2|                         0|      5| Orthodox|      175.26|     182.88|         145|    36|     33|            0|           0|                  0|    -1|      0|           -2|                0|    3|    -2|     2.54|   -5.08|    -3|    -1.84|        -0.2|   -0.25|       275|        550|     500|     700|    300|    250|\n",
      "+-----------------+-----------------+-------+--------+----------------+-----------------+----------+--------------------+-------+------+---------+-------------+------+--------------+---------------------+--------------------+---------+-------------------+----------------+-------------+---------------+------------+--------------------+----------+---------------------+-------------------+--------------------------+-----------------------+---------------------------+------------+--------------------+---------------------------+--------+----------+-------------+------------+-------------+--------------------+-------------------+--------+------------------+---------------+------------+--------------+-----------+-------------------+---------+--------------------+------------------+-------------------------+----------------------+--------------------------+-----------+-------------------+--------------------------+-------+---------+------------+-----------+------------+------+-------+-------------+------------+-------------------+------+-------+-------------+-----------------+-----+------+---------+--------+------+---------+------------+--------+----------+-----------+--------+--------+-------+-------+\n",
      "only showing top 5 rows\n",
      "\n",
      "Cleaned Historical Fights Dataset:\n",
      "+---------------+-------------------+-------+--------+----------+------------+-------+------+---------+-------------------+------+--------------+---------------------+--------------------+---------+-------------------+----------------+-------------+---------------+------------+--------------------+----------+---------------------+-------------------+--------------------------+-----------------------+---------------------------+------------+--------------------+---------------------------+--------+----------+-------------+------------+-------------+--------------------+-------------------+--------+------------------+---------------+------------+--------------+-----------+-------------------+---------+--------------------+------------------+-------------------------+----------------------+--------------------------+-----------+-------------------+--------------------------+-------+---------+------------+-----------+------------+------+-------+-------------+------------+-------------------+------+-------+-------------+-----------------+-----+------+---------+--------+------+---------+------------+--------+----------+------+----------------+-----------+-------------------+------------------+----------+-----------+--------+--------+-------+-------+\n",
      "|     RedFighter|        BlueFighter|RedOdds|BlueOdds|      Date|    Location|Country|Winner|TitleBout|        WeightClass|Gender|NumberOfRounds|BlueCurrentLoseStreak|BlueCurrentWinStreak|BlueDraws|BlueAvgSigStrLanded|BlueAvgSigStrPct|BlueAvgSubAtt|BlueAvgTDLanded|BlueAvgTDPct|BlueLongestWinStreak|BlueLosses|BlueTotalRoundsFought|BlueTotalTitleBouts|BlueWinsByDecisionMajority|BlueWinsByDecisionSplit|BlueWinsByDecisionUnanimous|BlueWinsByKO|BlueWinsBySubmission|BlueWinsByTKODoctorStoppage|BlueWins|BlueStance|BlueHeightCms|BlueReachCms|BlueWeightLbs|RedCurrentLoseStreak|RedCurrentWinStreak|RedDraws|RedAvgSigStrLanded|RedAvgSigStrPct|RedAvgSubAtt|RedAvgTDLanded|RedAvgTDPct|RedLongestWinStreak|RedLosses|RedTotalRoundsFought|RedTotalTitleBouts|RedWinsByDecisionMajority|RedWinsByDecisionSplit|RedWinsByDecisionUnanimous|RedWinsByKO|RedWinsBySubmission|RedWinsByTKODoctorStoppage|RedWins|RedStance|RedHeightCms|RedReachCms|RedWeightLbs|RedAge|BlueAge|LoseStreakDif|WinStreakDif|LongestWinStreakDif|WinDif|LossDif|TotalRoundDif|TotalTitleBoutDif|KODif|SubDif|HeightDif|ReachDif|AgeDif|SigStrDif|AvgSubAttDif|AvgTDDif|BetterRank|Finish|   FinishDetails|FinishRound|    FinishRoundTime|TotalFightTimeSecs|RedDecOdds|BlueDecOdds|RSubOdds|BSubOdds|RKOOdds|BKOOdds|\n",
      "+---------------+-------------------+-------+--------+----------+------------+-------+------+---------+-------------------+------+--------------+---------------------+--------------------+---------+-------------------+----------------+-------------+---------------+------------+--------------------+----------+---------------------+-------------------+--------------------------+-----------------------+---------------------------+------------+--------------------+---------------------------+--------+----------+-------------+------------+-------------+--------------------+-------------------+--------+------------------+---------------+------------+--------------+-----------+-------------------+---------+--------------------+------------------+-------------------------+----------------------+--------------------------+-----------+-------------------+--------------------------+-------+---------+------------+-----------+------------+------+-------+-------------+------------+-------------------+------+-------+-------------+-----------------+-----+------+---------+--------+------+---------+------------+--------+----------+------+----------------+-----------+-------------------+------------------+----------+-----------+--------+--------+-------+-------+\n",
      "|       Petr Yan|Deiveson Figueiredo| -305.0|   245.0|2024-11-23|Macau, China|  China|   Red|    false|       Bantamweight|  MALE|             5|                    0|                   3|        1|               2.91|            0.54|          1.4|           1.62|        0.34|                   5|         3|                   44|                  6|                         0|                      1|                          4|           4|                   4|                          0|      13|  Orthodox|        165.1|      172.72|          135|                   0|                  1|       0|              5.11|           0.54|         0.1|          1.61|       0.49|                  7|        4|                  45|                 4|                        0|                     0|                         5|          4|                  0|                         0|      9|   Switch|      170.18|     170.18|         135|    31|     36|            0|           2|                 -2|     4|     -1|           -1|                2|    0|     4|    -5.08|    2.54|     5|     -2.2|         1.3|    0.01|       Red| U-DEC|            NULL|        5.0|2024-12-15 05:00:00|            1500.0|     110.0|      450.0|  2000.0|  1600.0|  200.0| 1000.0|\n",
      "|    Yan Xiaonan|      Tabatha Ricci| -198.0|   164.0|2024-11-23|Macau, China|  China|   Red|    false|Women's Strawweight|FEMALE|             3|                    0|                   2|        0|               4.18|            0.36|          0.1|           2.74|        0.37|                   4|         2|                   22|                  0|                         0|                      1|                          4|           0|                   1|                          0|       6|  Orthodox|       154.94|      154.94|          115|                   1|                  0|       0|              4.99|           0.45|         0.0|          0.92|       0.73|                  6|        3|                  34|                 1|                        1|                     0|                         6|          1|                  0|                         0|      8| Orthodox|       165.1|     160.02|         115|    35|     29|           -1|           2|                 -2|    -2|     -1|          -12|               -1|   -1|     1|   -10.16|   -5.08|    -6|    -0.81|         0.1|    1.82|       Red| U-DEC|            NULL|        3.0|2024-12-15 05:00:00|             900.0|     110.0|      215.0|  2000.0|  1100.0|  200.0| 1800.0|\n",
      "|     Song Kenan|    Muslim Salikhov|   NULL|  -230.0|2024-11-23|Macau, China|  China|  Blue|    false|       Welterweight|  MALE|             3|                    0|                   1|        0|               3.38|            0.49|          0.0|           1.08|        0.32|                   5|         4|                   26|                  0|                         0|                      2|                          2|           3|                   0|                          0|       7|  Orthodox|       180.34|       177.8|          170|                   0|                  1|       0|              4.49|           0.46|         0.0|          0.42|        0.3|                  2|        4|                  23|                 0|                        0|                     0|                         3|          3|                  0|                         0|      6| Orthodox|      182.88|     180.34|         170|    34|     40|            0|           0|                  3|     1|      0|            3|                0|    0|     0|    -2.54|   -2.54|     6|    -1.11|         0.0|    0.66|   neither|KO/TKO|            Kick|        1.0|2024-12-15 03:49:00|             229.0|      NULL|      175.0|    NULL|  1800.0|   NULL|  200.0|\n",
      "|      Wang Cong|Gabriella Fernandes| -950.0|   750.0|2024-11-23|Macau, China|  China|  Blue|    false|  Women's Flyweight|FEMALE|             3|                    0|                   1|        0|               3.46|            0.46|          0.3|           0.56|        0.18|                   1|         2|                    9|                  0|                         0|                      1|                          0|           0|                   0|                          0|       1|  Southpaw|       167.64|      167.64|          125|                   0|                  2|       0|              5.81|           0.46|         2.3|          1.16|        0.5|                  2|        0|                   2|                 0|                        0|                     0|                         0|          1|                  1|                         0|      2| Southpaw|      167.64|     167.64|         125|    32|     31|            0|          -1|                 -1|    -1|      2|            7|                0|   -1|    -1|      0.0|     0.0|    -1|    -2.35|        -2.0|    -0.6|   neither|   SUB|Rear Naked Choke|        2.0|2024-12-15 03:49:00|             529.0|    -110.0|     1000.0|   460.0|  3000.0|  280.0| 2200.0|\n",
      "|Volkan Oezdemir|      Carlos Ulberg|  215.0|  -265.0|2024-11-23|Macau, China|  China|  Blue|    false|  Light Heavyweight|  MALE|             3|                    0|                   6|        0|                7.2|            0.56|          0.2|           0.72|        0.75|                   6|         1|                   13|                  0|                         0|                      0|                          1|           5|                   1|                          0|       7|  Orthodox|       193.04|      195.58|          205|                   0|                  2|       0|              4.95|           0.48|         0.1|           0.5|       0.29|                  3|        6|                  31|                 1|                        0|                     2|                         1|          4|                  1|                         0|      8| Orthodox|      187.96|      190.5|         205|    35|     34|            0|           4|                  3|    -1|     -5|          -18|               -1|    1|     0|     5.08|    5.08|    -1|     2.25|         0.1|    0.22|       Red| U-DEC|            NULL|        3.0|2024-12-15 05:00:00|             900.0|     500.0|      240.0|  1600.0|   800.0|  500.0|  130.0|\n",
      "+---------------+-------------------+-------+--------+----------+------------+-------+------+---------+-------------------+------+--------------+---------------------+--------------------+---------+-------------------+----------------+-------------+---------------+------------+--------------------+----------+---------------------+-------------------+--------------------------+-----------------------+---------------------------+------------+--------------------+---------------------------+--------+----------+-------------+------------+-------------+--------------------+-------------------+--------+------------------+---------------+------------+--------------+-----------+-------------------+---------+--------------------+------------------+-------------------------+----------------------+--------------------------+-----------+-------------------+--------------------------+-------+---------+------------+-----------+------------+------+-------+-------------+------------+-------------------+------+-------+-------------+-----------------+-----+------+---------+--------+------+---------+------------+--------+----------+------+----------------+-----------+-------------------+------------------+----------+-----------+--------+--------+-------+-------+\n",
      "only showing top 5 rows\n",
      "\n"
     ]
    }
   ],
   "source": [
    "# Drop unnecessary columns\n",
    "fighters_df_clean = fighters_df.drop(*fighters_columns_to_drop)\n",
    "upcoming_df_clean = upcoming_df.drop(*upcoming_columns_to_drop)\n",
    "history_df_clean = history_df.drop(*history_columns_to_drop)\n",
    "\n",
    "# Show the cleaned DataFrames\n",
    "print(\"Cleaned Fighters Dataset:\")\n",
    "fighters_df_clean.show(5)\n",
    "\n",
    "print(\"Cleaned Upcoming Fights Dataset:\")\n",
    "upcoming_df_clean.show(5)\n",
    "\n",
    "print(\"Cleaned Historical Fights Dataset:\")\n",
    "history_df_clean.show(5)"
   ]
  },
  {
   "cell_type": "markdown",
   "id": "54e70a39-52a0-49fd-9856-396c3685ad25",
   "metadata": {},
   "source": [
    "Checking datasets for data consistency"
   ]
  },
  {
   "cell_type": "code",
   "execution_count": 21,
   "id": "f8d0afd4-0b40-43a0-96cb-b4e669b7f6cc",
   "metadata": {},
   "outputs": [
    {
     "name": "stdout",
     "output_type": "stream",
     "text": [
      "\n",
      "Missing Values in Fighters Dataset:\n",
      "+------------+--------+----------+----+--------+-------+------+------+-----------+------------+----+-------+---------------+-------------+-------+---------+-----------------+---------------+\n",
      "|fighter_name|nickname|birth_date| age|location|country|height|weight|association|weight_class|wins|wins_ko|wins_submission|wins_decision|lossess|losses_ko|losses_submission|losses_decision|\n",
      "+------------+--------+----------+----+--------+-------+------+------+-----------+------------+----+-------+---------------+-------------+-------+---------+-----------------+---------------+\n",
      "|           3|    1946|      1115|1149|     512|     22|     0|     0|        727|          30|   0|      0|              0|            0|      0|        0|                0|              0|\n",
      "+------------+--------+----------+----+--------+-------+------+------+-----------+------------+----+-------+---------------+-------------+-------+---------+-----------------+---------------+\n",
      "\n",
      "\n",
      "Missing Values in Upcoming Fights Dataset:\n",
      "+----------+-----------+-------+--------+----------------+-----------------+----+--------+-------+------+---------+-----------+------+--------------+---------------------+--------------------+---------+-------------------+----------------+-------------+---------------+------------+--------------------+----------+---------------------+-------------------+--------------------------+-----------------------+---------------------------+------------+--------------------+---------------------------+--------+----------+-------------+------------+-------------+--------------------+-------------------+--------+------------------+---------------+------------+--------------+-----------+-------------------+---------+--------------------+------------------+-------------------------+----------------------+--------------------------+-----------+-------------------+--------------------------+-------+---------+------------+-----------+------------+------+-------+-------------+------------+-------------------+------+-------+-------------+-----------------+-----+------+---------+--------+------+---------+------------+--------+----------+-----------+--------+--------+-------+-------+\n",
      "|RedFighter|BlueFighter|RedOdds|BlueOdds|RedExpectedValue|BlueExpectedValue|Date|Location|Country|Winner|TitleBout|WeightClass|Gender|NumberOfRounds|BlueCurrentLoseStreak|BlueCurrentWinStreak|BlueDraws|BlueAvgSigStrLanded|BlueAvgSigStrPct|BlueAvgSubAtt|BlueAvgTDLanded|BlueAvgTDPct|BlueLongestWinStreak|BlueLosses|BlueTotalRoundsFought|BlueTotalTitleBouts|BlueWinsByDecisionMajority|BlueWinsByDecisionSplit|BlueWinsByDecisionUnanimous|BlueWinsByKO|BlueWinsBySubmission|BlueWinsByTKODoctorStoppage|BlueWins|BlueStance|BlueHeightCms|BlueReachCms|BlueWeightLbs|RedCurrentLoseStreak|RedCurrentWinStreak|RedDraws|RedAvgSigStrLanded|RedAvgSigStrPct|RedAvgSubAtt|RedAvgTDLanded|RedAvgTDPct|RedLongestWinStreak|RedLosses|RedTotalRoundsFought|RedTotalTitleBouts|RedWinsByDecisionMajority|RedWinsByDecisionSplit|RedWinsByDecisionUnanimous|RedWinsByKO|RedWinsBySubmission|RedWinsByTKODoctorStoppage|RedWins|RedStance|RedHeightCms|RedReachCms|RedWeightLbs|RedAge|BlueAge|LoseStreakDif|WinStreakDif|LongestWinStreakDif|WinDif|LossDif|TotalRoundDif|TotalTitleBoutDif|KODif|SubDif|HeightDif|ReachDif|AgeDif|SigStrDif|AvgSubAttDif|AvgTDDif|RedDecOdds|BlueDecOdds|RSubOdds|BSubOdds|RKOOdds|BKOOdds|\n",
      "+----------+-----------+-------+--------+----------------+-----------------+----+--------+-------+------+---------+-----------+------+--------------+---------------------+--------------------+---------+-------------------+----------------+-------------+---------------+------------+--------------------+----------+---------------------+-------------------+--------------------------+-----------------------+---------------------------+------------+--------------------+---------------------------+--------+----------+-------------+------------+-------------+--------------------+-------------------+--------+------------------+---------------+------------+--------------+-----------+-------------------+---------+--------------------+------------------+-------------------------+----------------------+--------------------------+-----------+-------------------+--------------------------+-------+---------+------------+-----------+------------+------+-------+-------------+------------+-------------------+------+-------+-------------+-----------------+-----+------+---------+--------+------+---------+------------+--------+----------+-----------+--------+--------+-------+-------+\n",
      "|         0|          0|      0|       0|               0|                0|   0|       0|      0|    14|        0|          0|     0|             0|                    0|                   0|        0|                  0|               0|            0|              0|           0|                   0|         0|                    0|                  0|                         0|                      0|                          0|           0|                   0|                          0|       0|         0|            0|           0|            0|                   0|                  0|       0|                 0|              0|           0|             0|          0|                  0|        0|                   0|                 0|                        0|                     0|                         0|          0|                  0|                         0|      0|        0|           0|          0|           0|     0|      0|            0|           0|                  0|     0|      0|            0|                0|    0|     0|        0|       0|     0|        0|           0|       0|         0|          0|       0|       0|      0|      0|\n",
      "+----------+-----------+-------+--------+----------------+-----------------+----+--------+-------+------+---------+-----------+------+--------------+---------------------+--------------------+---------+-------------------+----------------+-------------+---------------+------------+--------------------+----------+---------------------+-------------------+--------------------------+-----------------------+---------------------------+------------+--------------------+---------------------------+--------+----------+-------------+------------+-------------+--------------------+-------------------+--------+------------------+---------------+------------+--------------+-----------+-------------------+---------+--------------------+------------------+-------------------------+----------------------+--------------------------+-----------+-------------------+--------------------------+-------+---------+------------+-----------+------------+------+-------+-------------+------------+-------------------+------+-------+-------------+-----------------+-----+------+---------+--------+------+---------+------------+--------+----------+-----------+--------+--------+-------+-------+\n",
      "\n",
      "\n",
      "Missing Values in Historical Fights Dataset:\n",
      "+----------+-----------+-------+--------+----+--------+-------+------+---------+-----------+------+--------------+---------------------+--------------------+---------+-------------------+----------------+-------------+---------------+------------+--------------------+----------+---------------------+-------------------+--------------------------+-----------------------+---------------------------+------------+--------------------+---------------------------+--------+----------+-------------+------------+-------------+--------------------+-------------------+--------+------------------+---------------+------------+--------------+-----------+-------------------+---------+--------------------+------------------+-------------------------+----------------------+--------------------------+-----------+-------------------+--------------------------+-------+---------+------------+-----------+------------+------+-------+-------------+------------+-------------------+------+-------+-------------+-----------------+-----+------+---------+--------+------+---------+------------+--------+----------+------+-------------+-----------+---------------+------------------+----------+-----------+--------+--------+-------+-------+\n",
      "|RedFighter|BlueFighter|RedOdds|BlueOdds|Date|Location|Country|Winner|TitleBout|WeightClass|Gender|NumberOfRounds|BlueCurrentLoseStreak|BlueCurrentWinStreak|BlueDraws|BlueAvgSigStrLanded|BlueAvgSigStrPct|BlueAvgSubAtt|BlueAvgTDLanded|BlueAvgTDPct|BlueLongestWinStreak|BlueLosses|BlueTotalRoundsFought|BlueTotalTitleBouts|BlueWinsByDecisionMajority|BlueWinsByDecisionSplit|BlueWinsByDecisionUnanimous|BlueWinsByKO|BlueWinsBySubmission|BlueWinsByTKODoctorStoppage|BlueWins|BlueStance|BlueHeightCms|BlueReachCms|BlueWeightLbs|RedCurrentLoseStreak|RedCurrentWinStreak|RedDraws|RedAvgSigStrLanded|RedAvgSigStrPct|RedAvgSubAtt|RedAvgTDLanded|RedAvgTDPct|RedLongestWinStreak|RedLosses|RedTotalRoundsFought|RedTotalTitleBouts|RedWinsByDecisionMajority|RedWinsByDecisionSplit|RedWinsByDecisionUnanimous|RedWinsByKO|RedWinsBySubmission|RedWinsByTKODoctorStoppage|RedWins|RedStance|RedHeightCms|RedReachCms|RedWeightLbs|RedAge|BlueAge|LoseStreakDif|WinStreakDif|LongestWinStreakDif|WinDif|LossDif|TotalRoundDif|TotalTitleBoutDif|KODif|SubDif|HeightDif|ReachDif|AgeDif|SigStrDif|AvgSubAttDif|AvgTDDif|BetterRank|Finish|FinishDetails|FinishRound|FinishRoundTime|TotalFightTimeSecs|RedDecOdds|BlueDecOdds|RSubOdds|BSubOdds|RKOOdds|BKOOdds|\n",
      "+----------+-----------+-------+--------+----+--------+-------+------+---------+-----------+------+--------------+---------------------+--------------------+---------+-------------------+----------------+-------------+---------------+------------+--------------------+----------+---------------------+-------------------+--------------------------+-----------------------+---------------------------+------------+--------------------+---------------------------+--------+----------+-------------+------------+-------------+--------------------+-------------------+--------+------------------+---------------+------------+--------------+-----------+-------------------+---------+--------------------+------------------+-------------------------+----------------------+--------------------------+-----------+-------------------+--------------------------+-------+---------+------------+-----------+------------+------+-------+-------------+------------+-------------------+------+-------+-------------+-----------------+-----+------+---------+--------+------+---------+------------+--------+----------+------+-------------+-----------+---------------+------------------+----------+-----------+--------+--------+-------+-------+\n",
      "|         0|          0|    227|     226|   0|       0|      0|     0|        0|          0|     0|             0|                    0|                   0|        0|                930|             765|          832|            833|         842|                   0|         0|                    0|                  0|                         0|                      0|                          0|           0|                   0|                          0|       0|         3|            0|           0|            0|                   0|                  0|       0|               455|            357|         357|           357|        367|                  0|        0|                   0|                 0|                        0|                     0|                         0|          0|                  0|                         0|      0|        0|           0|          0|           0|     0|      0|            0|           0|                  0|     0|      0|            0|                0|    0|     0|        0|       0|     0|        0|           0|       0|         0|   238|         3631|        622|            622|               622|      1087|       1116|    1336|    1359|   1334|   1360|\n",
      "+----------+-----------+-------+--------+----+--------+-------+------+---------+-----------+------+--------------+---------------------+--------------------+---------+-------------------+----------------+-------------+---------------+------------+--------------------+----------+---------------------+-------------------+--------------------------+-----------------------+---------------------------+------------+--------------------+---------------------------+--------+----------+-------------+------------+-------------+--------------------+-------------------+--------+------------------+---------------+------------+--------------+-----------+-------------------+---------+--------------------+------------------+-------------------------+----------------------+--------------------------+-----------+-------------------+--------------------------+-------+---------+------------+-----------+------------+------+-------+-------------+------------+-------------------+------+-------+-------------+-----------------+-----+------+---------+--------+------+---------+------------+--------+----------+------+-------------+-----------+---------------+------------------+----------+-----------+--------+--------+-------+-------+\n",
      "\n",
      "\n",
      "Missing Values in Rankings Dataset:\n",
      "+----+-----------+-------+----+\n",
      "|date|weightclass|fighter|rank|\n",
      "+----+-----------+-------+----+\n",
      "|   0|          0|      0|   0|\n",
      "+----+-----------+-------+----+\n",
      "\n"
     ]
    }
   ],
   "source": [
    "check_missing_values(fighters_df_clean, \"Fighters Dataset\")\n",
    "check_missing_values(upcoming_df_clean, \"Upcoming Fights Dataset\")\n",
    "check_missing_values(history_df_clean, \"Historical Fights Dataset\")\n",
    "check_missing_values(rankings_df_clean, \"Rankings Dataset\")"
   ]
  },
  {
   "cell_type": "markdown",
   "id": "dc8a20b3-97b9-4c45-821c-540f41a0ead2",
   "metadata": {},
   "source": [
    "There are still a lot of missing values in a lot of the columns of the datasets, we're gonna use different techniques now to get \n",
    "rid of them. Right now we are using the median to fill in the missing values from the \"columns_to_fill\""
   ]
  },
  {
   "cell_type": "markdown",
   "id": "685aa863-74ff-40f2-982d-f5edc412674a",
   "metadata": {},
   "source": [
    "1) Historical fights"
   ]
  },
  {
   "cell_type": "code",
   "execution_count": 22,
   "id": "643fadeb-2b62-4b04-841e-ea67b69a2219",
   "metadata": {},
   "outputs": [
    {
     "name": "stdout",
     "output_type": "stream",
     "text": [
      "Median for BlueAvgSigStrLanded: 9.5\n",
      "Median for BlueAvgSigStrPct: 0.46\n",
      "Median for BlueAvgSubAtt: 0.3\n",
      "Median for BlueAvgTDLanded: 1.0\n",
      "Median for BlueAvgTDPct: 0.33\n",
      "Median for RedAvgSigStrLanded: 15.8333\n",
      "Median for RedAvgSigStrPct: 0.46\n",
      "Median for RedAvgSubAtt: 0.3333\n",
      "Median for RedAvgTDLanded: 1.03\n",
      "Median for RedAvgTDPct: 0.337\n",
      "Median for RedDecOdds: 250.0\n",
      "Median for BlueDecOdds: 350.0\n",
      "Median for RSubOdds: 750.0\n",
      "Median for RKOOdds: 420.0\n",
      "Median for BKOOdds: 525.0\n",
      "Median for TotalFightTimeSecs: 900.0\n",
      "Median for BSubOdds: 1000.0\n",
      "Median for RedOdds: -150.0\n",
      "Median for BlueOdds: 130.0\n"
     ]
    }
   ],
   "source": [
    "columns_to_fill = [\n",
    "    \"BlueAvgSigStrLanded\", \"BlueAvgSigStrPct\", \"BlueAvgSubAtt\", \"BlueAvgTDLanded\", \"BlueAvgTDPct\",\n",
    "    \"RedAvgSigStrLanded\", \"RedAvgSigStrPct\", \"RedAvgSubAtt\", \"RedAvgTDLanded\", \"RedAvgTDPct\", \"RedDecOdds\",\n",
    "    \"BlueDecOdds\", \"RSubOdds\", \"RKOOdds\", \"BKOOdds\", \"TotalFightTimeSecs\", \"BSubOdds\", \"RedOdds\", \"BlueOdds\"\n",
    "]\n",
    "\n",
    "# Function to calculate median for a specific column\n",
    "def calculate_median(df, column_name):\n",
    "    # Sort the column and calculate the approximate median\n",
    "    median_value = df.approxQuantile(column_name, [0.5], 0.0)[0]\n",
    "    return median_value\n",
    "\n",
    "# Calculate medians for each column and fill missing values\n",
    "for col_name in columns_to_fill:\n",
    "    median = calculate_median(history_df_clean, col_name)\n",
    "    print(f\"Median for {col_name}: {median}\")\n",
    "    history_df_clean = history_df_clean.fillna({col_name: median})"
   ]
  },
  {
   "cell_type": "code",
   "execution_count": 23,
   "id": "614f0734-152f-4d65-827d-e2e7f566f7f0",
   "metadata": {},
   "outputs": [
    {
     "name": "stdout",
     "output_type": "stream",
     "text": [
      "\n",
      "Missing Values in Historical Fights Dataset:\n",
      "+----------+-----------+-------+--------+----+--------+-------+------+---------+-----------+------+--------------+---------------------+--------------------+---------+-------------------+----------------+-------------+---------------+------------+--------------------+----------+---------------------+-------------------+--------------------------+-----------------------+---------------------------+------------+--------------------+---------------------------+--------+----------+-------------+------------+-------------+--------------------+-------------------+--------+------------------+---------------+------------+--------------+-----------+-------------------+---------+--------------------+------------------+-------------------------+----------------------+--------------------------+-----------+-------------------+--------------------------+-------+---------+------------+-----------+------------+------+-------+-------------+------------+-------------------+------+-------+-------------+-----------------+-----+------+---------+--------+------+---------+------------+--------+----------+------+-------------+-----------+---------------+------------------+----------+-----------+--------+--------+-------+-------+\n",
      "|RedFighter|BlueFighter|RedOdds|BlueOdds|Date|Location|Country|Winner|TitleBout|WeightClass|Gender|NumberOfRounds|BlueCurrentLoseStreak|BlueCurrentWinStreak|BlueDraws|BlueAvgSigStrLanded|BlueAvgSigStrPct|BlueAvgSubAtt|BlueAvgTDLanded|BlueAvgTDPct|BlueLongestWinStreak|BlueLosses|BlueTotalRoundsFought|BlueTotalTitleBouts|BlueWinsByDecisionMajority|BlueWinsByDecisionSplit|BlueWinsByDecisionUnanimous|BlueWinsByKO|BlueWinsBySubmission|BlueWinsByTKODoctorStoppage|BlueWins|BlueStance|BlueHeightCms|BlueReachCms|BlueWeightLbs|RedCurrentLoseStreak|RedCurrentWinStreak|RedDraws|RedAvgSigStrLanded|RedAvgSigStrPct|RedAvgSubAtt|RedAvgTDLanded|RedAvgTDPct|RedLongestWinStreak|RedLosses|RedTotalRoundsFought|RedTotalTitleBouts|RedWinsByDecisionMajority|RedWinsByDecisionSplit|RedWinsByDecisionUnanimous|RedWinsByKO|RedWinsBySubmission|RedWinsByTKODoctorStoppage|RedWins|RedStance|RedHeightCms|RedReachCms|RedWeightLbs|RedAge|BlueAge|LoseStreakDif|WinStreakDif|LongestWinStreakDif|WinDif|LossDif|TotalRoundDif|TotalTitleBoutDif|KODif|SubDif|HeightDif|ReachDif|AgeDif|SigStrDif|AvgSubAttDif|AvgTDDif|BetterRank|Finish|FinishDetails|FinishRound|FinishRoundTime|TotalFightTimeSecs|RedDecOdds|BlueDecOdds|RSubOdds|BSubOdds|RKOOdds|BKOOdds|\n",
      "+----------+-----------+-------+--------+----+--------+-------+------+---------+-----------+------+--------------+---------------------+--------------------+---------+-------------------+----------------+-------------+---------------+------------+--------------------+----------+---------------------+-------------------+--------------------------+-----------------------+---------------------------+------------+--------------------+---------------------------+--------+----------+-------------+------------+-------------+--------------------+-------------------+--------+------------------+---------------+------------+--------------+-----------+-------------------+---------+--------------------+------------------+-------------------------+----------------------+--------------------------+-----------+-------------------+--------------------------+-------+---------+------------+-----------+------------+------+-------+-------------+------------+-------------------+------+-------+-------------+-----------------+-----+------+---------+--------+------+---------+------------+--------+----------+------+-------------+-----------+---------------+------------------+----------+-----------+--------+--------+-------+-------+\n",
      "|         0|          0|      0|       0|   0|       0|      0|     0|        0|          0|     0|             0|                    0|                   0|        0|                  0|               0|            0|              0|           0|                   0|         0|                    0|                  0|                         0|                      0|                          0|           0|                   0|                          0|       0|         3|            0|           0|            0|                   0|                  0|       0|                 0|              0|           0|             0|          0|                  0|        0|                   0|                 0|                        0|                     0|                         0|          0|                  0|                         0|      0|        0|           0|          0|           0|     0|      0|            0|           0|                  0|     0|      0|            0|                0|    0|     0|        0|       0|     0|        0|           0|       0|         0|   238|         3631|        622|            622|                 0|         0|          0|       0|       0|      0|      0|\n",
      "+----------+-----------+-------+--------+----+--------+-------+------+---------+-----------+------+--------------+---------------------+--------------------+---------+-------------------+----------------+-------------+---------------+------------+--------------------+----------+---------------------+-------------------+--------------------------+-----------------------+---------------------------+------------+--------------------+---------------------------+--------+----------+-------------+------------+-------------+--------------------+-------------------+--------+------------------+---------------+------------+--------------+-----------+-------------------+---------+--------------------+------------------+-------------------------+----------------------+--------------------------+-----------+-------------------+--------------------------+-------+---------+------------+-----------+------------+------+-------+-------------+------------+-------------------+------+-------+-------------+-----------------+-----+------+---------+--------+------+---------+------------+--------+----------+------+-------------+-----------+---------------+------------------+----------+-----------+--------+--------+-------+-------+\n",
      "\n"
     ]
    }
   ],
   "source": [
    "check_missing_values(history_df_clean, \"Historical Fights Dataset\")"
   ]
  },
  {
   "cell_type": "code",
   "execution_count": 24,
   "id": "b6838f40-dc6d-4653-8aec-283bef65003c",
   "metadata": {},
   "outputs": [
    {
     "name": "stdout",
     "output_type": "stream",
     "text": [
      "Most common value for BlueStance: Orthodox\n"
     ]
    }
   ],
   "source": [
    "#Blue Stance - Fill with most common value\n",
    "\n",
    "# Step 1: Calculate the most common value (mode) for the 'BlueStance' column\n",
    "blue_stance_mode = (history_df_clean\n",
    "                    .groupBy(\"BlueStance\")\n",
    "                    .agg(count(\"*\").alias(\"count\"))\n",
    "                    .orderBy(col(\"count\").desc())\n",
    "                    .limit(1)\n",
    "                    .collect()[0][0])\n",
    "\n",
    "print(f\"Most common value for BlueStance: {blue_stance_mode}\")\n",
    "\n",
    "# Step 2: Fill null values in 'BlueStance' with the most common value\n",
    "history_df_clean = history_df_clean.fillna({\"BlueStance\": blue_stance_mode})"
   ]
  },
  {
   "cell_type": "code",
   "execution_count": 25,
   "id": "f7c5e34a-53ea-412c-968a-9809b82a7d0c",
   "metadata": {},
   "outputs": [
    {
     "name": "stdout",
     "output_type": "stream",
     "text": [
      "\n",
      "Missing Values in Historical Fights Dataset:\n",
      "+----------+-----------+-------+--------+----+--------+-------+------+---------+-----------+------+--------------+---------------------+--------------------+---------+-------------------+----------------+-------------+---------------+------------+--------------------+----------+---------------------+-------------------+--------------------------+-----------------------+---------------------------+------------+--------------------+---------------------------+--------+----------+-------------+------------+-------------+--------------------+-------------------+--------+------------------+---------------+------------+--------------+-----------+-------------------+---------+--------------------+------------------+-------------------------+----------------------+--------------------------+-----------+-------------------+--------------------------+-------+---------+------------+-----------+------------+------+-------+-------------+------------+-------------------+------+-------+-------------+-----------------+-----+------+---------+--------+------+---------+------------+--------+----------+------+-------------+-----------+---------------+------------------+----------+-----------+--------+--------+-------+-------+\n",
      "|RedFighter|BlueFighter|RedOdds|BlueOdds|Date|Location|Country|Winner|TitleBout|WeightClass|Gender|NumberOfRounds|BlueCurrentLoseStreak|BlueCurrentWinStreak|BlueDraws|BlueAvgSigStrLanded|BlueAvgSigStrPct|BlueAvgSubAtt|BlueAvgTDLanded|BlueAvgTDPct|BlueLongestWinStreak|BlueLosses|BlueTotalRoundsFought|BlueTotalTitleBouts|BlueWinsByDecisionMajority|BlueWinsByDecisionSplit|BlueWinsByDecisionUnanimous|BlueWinsByKO|BlueWinsBySubmission|BlueWinsByTKODoctorStoppage|BlueWins|BlueStance|BlueHeightCms|BlueReachCms|BlueWeightLbs|RedCurrentLoseStreak|RedCurrentWinStreak|RedDraws|RedAvgSigStrLanded|RedAvgSigStrPct|RedAvgSubAtt|RedAvgTDLanded|RedAvgTDPct|RedLongestWinStreak|RedLosses|RedTotalRoundsFought|RedTotalTitleBouts|RedWinsByDecisionMajority|RedWinsByDecisionSplit|RedWinsByDecisionUnanimous|RedWinsByKO|RedWinsBySubmission|RedWinsByTKODoctorStoppage|RedWins|RedStance|RedHeightCms|RedReachCms|RedWeightLbs|RedAge|BlueAge|LoseStreakDif|WinStreakDif|LongestWinStreakDif|WinDif|LossDif|TotalRoundDif|TotalTitleBoutDif|KODif|SubDif|HeightDif|ReachDif|AgeDif|SigStrDif|AvgSubAttDif|AvgTDDif|BetterRank|Finish|FinishDetails|FinishRound|FinishRoundTime|TotalFightTimeSecs|RedDecOdds|BlueDecOdds|RSubOdds|BSubOdds|RKOOdds|BKOOdds|\n",
      "+----------+-----------+-------+--------+----+--------+-------+------+---------+-----------+------+--------------+---------------------+--------------------+---------+-------------------+----------------+-------------+---------------+------------+--------------------+----------+---------------------+-------------------+--------------------------+-----------------------+---------------------------+------------+--------------------+---------------------------+--------+----------+-------------+------------+-------------+--------------------+-------------------+--------+------------------+---------------+------------+--------------+-----------+-------------------+---------+--------------------+------------------+-------------------------+----------------------+--------------------------+-----------+-------------------+--------------------------+-------+---------+------------+-----------+------------+------+-------+-------------+------------+-------------------+------+-------+-------------+-----------------+-----+------+---------+--------+------+---------+------------+--------+----------+------+-------------+-----------+---------------+------------------+----------+-----------+--------+--------+-------+-------+\n",
      "|         0|          0|      0|       0|   0|       0|      0|     0|        0|          0|     0|             0|                    0|                   0|        0|                  0|               0|            0|              0|           0|                   0|         0|                    0|                  0|                         0|                      0|                          0|           0|                   0|                          0|       0|         0|            0|           0|            0|                   0|                  0|       0|                 0|              0|           0|             0|          0|                  0|        0|                   0|                 0|                        0|                     0|                         0|          0|                  0|                         0|      0|        0|           0|          0|           0|     0|      0|            0|           0|                  0|     0|      0|            0|                0|    0|     0|        0|       0|     0|        0|           0|       0|         0|   238|         3631|        622|            622|                 0|         0|          0|       0|       0|      0|      0|\n",
      "+----------+-----------+-------+--------+----+--------+-------+------+---------+-----------+------+--------------+---------------------+--------------------+---------+-------------------+----------------+-------------+---------------+------------+--------------------+----------+---------------------+-------------------+--------------------------+-----------------------+---------------------------+------------+--------------------+---------------------------+--------+----------+-------------+------------+-------------+--------------------+-------------------+--------+------------------+---------------+------------+--------------+-----------+-------------------+---------+--------------------+------------------+-------------------------+----------------------+--------------------------+-----------+-------------------+--------------------------+-------+---------+------------+-----------+------------+------+-------+-------------+------------+-------------------+------+-------+-------------+-----------------+-----+------+---------+--------+------+---------+------------+--------+----------+------+-------------+-----------+---------------+------------------+----------+-----------+--------+--------+-------+-------+\n",
      "\n"
     ]
    }
   ],
   "source": [
    "check_missing_values(history_df_clean, \"Historical Fights Dataset\")"
   ]
  },
  {
   "cell_type": "code",
   "execution_count": 26,
   "id": "73ed4e44-e812-4335-a256-f66091b585ff",
   "metadata": {},
   "outputs": [],
   "source": [
    "# Fill missing values with appropriate defaults\n",
    "history_df_clean = history_df_clean.fillna({\n",
    "    \"Finish\": \"Decision\",            # Default to 'Decision' if no finish occurred\n",
    "    \"FinishDetails\": \"N/A\",          # 'N/A' for no specific finish details\n",
    "    \"FinishRound\": 0,                # 0 to indicate no specific round (fight went the distance)\n",
    "    \"FinishRoundTime\": \"00:00\"       # '00:00' for no specific finish time\n",
    "})"
   ]
  },
  {
   "cell_type": "code",
   "execution_count": 27,
   "id": "a5fde067-c8a5-4118-a174-65a4c189628a",
   "metadata": {},
   "outputs": [
    {
     "name": "stdout",
     "output_type": "stream",
     "text": [
      "\n",
      "Missing Values in Historical Fights Dataset:\n",
      "+----------+-----------+-------+--------+----+--------+-------+------+---------+-----------+------+--------------+---------------------+--------------------+---------+-------------------+----------------+-------------+---------------+------------+--------------------+----------+---------------------+-------------------+--------------------------+-----------------------+---------------------------+------------+--------------------+---------------------------+--------+----------+-------------+------------+-------------+--------------------+-------------------+--------+------------------+---------------+------------+--------------+-----------+-------------------+---------+--------------------+------------------+-------------------------+----------------------+--------------------------+-----------+-------------------+--------------------------+-------+---------+------------+-----------+------------+------+-------+-------------+------------+-------------------+------+-------+-------------+-----------------+-----+------+---------+--------+------+---------+------------+--------+----------+------+-------------+-----------+---------------+------------------+----------+-----------+--------+--------+-------+-------+\n",
      "|RedFighter|BlueFighter|RedOdds|BlueOdds|Date|Location|Country|Winner|TitleBout|WeightClass|Gender|NumberOfRounds|BlueCurrentLoseStreak|BlueCurrentWinStreak|BlueDraws|BlueAvgSigStrLanded|BlueAvgSigStrPct|BlueAvgSubAtt|BlueAvgTDLanded|BlueAvgTDPct|BlueLongestWinStreak|BlueLosses|BlueTotalRoundsFought|BlueTotalTitleBouts|BlueWinsByDecisionMajority|BlueWinsByDecisionSplit|BlueWinsByDecisionUnanimous|BlueWinsByKO|BlueWinsBySubmission|BlueWinsByTKODoctorStoppage|BlueWins|BlueStance|BlueHeightCms|BlueReachCms|BlueWeightLbs|RedCurrentLoseStreak|RedCurrentWinStreak|RedDraws|RedAvgSigStrLanded|RedAvgSigStrPct|RedAvgSubAtt|RedAvgTDLanded|RedAvgTDPct|RedLongestWinStreak|RedLosses|RedTotalRoundsFought|RedTotalTitleBouts|RedWinsByDecisionMajority|RedWinsByDecisionSplit|RedWinsByDecisionUnanimous|RedWinsByKO|RedWinsBySubmission|RedWinsByTKODoctorStoppage|RedWins|RedStance|RedHeightCms|RedReachCms|RedWeightLbs|RedAge|BlueAge|LoseStreakDif|WinStreakDif|LongestWinStreakDif|WinDif|LossDif|TotalRoundDif|TotalTitleBoutDif|KODif|SubDif|HeightDif|ReachDif|AgeDif|SigStrDif|AvgSubAttDif|AvgTDDif|BetterRank|Finish|FinishDetails|FinishRound|FinishRoundTime|TotalFightTimeSecs|RedDecOdds|BlueDecOdds|RSubOdds|BSubOdds|RKOOdds|BKOOdds|\n",
      "+----------+-----------+-------+--------+----+--------+-------+------+---------+-----------+------+--------------+---------------------+--------------------+---------+-------------------+----------------+-------------+---------------+------------+--------------------+----------+---------------------+-------------------+--------------------------+-----------------------+---------------------------+------------+--------------------+---------------------------+--------+----------+-------------+------------+-------------+--------------------+-------------------+--------+------------------+---------------+------------+--------------+-----------+-------------------+---------+--------------------+------------------+-------------------------+----------------------+--------------------------+-----------+-------------------+--------------------------+-------+---------+------------+-----------+------------+------+-------+-------------+------------+-------------------+------+-------+-------------+-----------------+-----+------+---------+--------+------+---------+------------+--------+----------+------+-------------+-----------+---------------+------------------+----------+-----------+--------+--------+-------+-------+\n",
      "|         0|          0|      0|       0|   0|       0|      0|     0|        0|          0|     0|             0|                    0|                   0|        0|                  0|               0|            0|              0|           0|                   0|         0|                    0|                  0|                         0|                      0|                          0|           0|                   0|                          0|       0|         0|            0|           0|            0|                   0|                  0|       0|                 0|              0|           0|             0|          0|                  0|        0|                   0|                 0|                        0|                     0|                         0|          0|                  0|                         0|      0|        0|           0|          0|           0|     0|      0|            0|           0|                  0|     0|      0|            0|                0|    0|     0|        0|       0|     0|        0|           0|       0|         0|     0|            0|          0|              0|                 0|         0|          0|       0|       0|      0|      0|\n",
      "+----------+-----------+-------+--------+----+--------+-------+------+---------+-----------+------+--------------+---------------------+--------------------+---------+-------------------+----------------+-------------+---------------+------------+--------------------+----------+---------------------+-------------------+--------------------------+-----------------------+---------------------------+------------+--------------------+---------------------------+--------+----------+-------------+------------+-------------+--------------------+-------------------+--------+------------------+---------------+------------+--------------+-----------+-------------------+---------+--------------------+------------------+-------------------------+----------------------+--------------------------+-----------+-------------------+--------------------------+-------+---------+------------+-----------+------------+------+-------+-------------+------------+-------------------+------+-------+-------------+-----------------+-----+------+---------+--------+------+---------+------------+--------+----------+------+-------------+-----------+---------------+------------------+----------+-----------+--------+--------+-------+-------+\n",
      "\n"
     ]
    }
   ],
   "source": [
    "check_missing_values(history_df_clean, \"Historical Fights Dataset\")\n",
    "\n",
    "#history_df_clean now finally has no missing values!"
   ]
  },
  {
   "cell_type": "markdown",
   "id": "ee23cb8a-9ae2-433c-94aa-b7070dda0d59",
   "metadata": {},
   "source": [
    "2) Fighters dataset"
   ]
  },
  {
   "cell_type": "code",
   "execution_count": 28,
   "id": "e43dd92e-7cf0-4f24-87aa-72399e11b40f",
   "metadata": {},
   "outputs": [],
   "source": [
    "# 1. Drop rows where 'fighter_name', 'birth_date', or 'age' are missing\n",
    "fighters_df_clean = fighters_df.dropna(subset=[\"fighter_name\", \"birth_date\", \"age\"])\n",
    "\n",
    "# 2. Fill missing 'nickname' with \"No Nickname\"\n",
    "fighters_df_clean = fighters_df_clean.fillna({\"nickname\": \"No Nickname\"})\n",
    "\n",
    "# 3. Fill missing 'location', 'country', and 'association' with \"Unknown\"\n",
    "fighters_df_clean = fighters_df_clean.fillna({\n",
    "    \"location\": \"Unknown\",\n",
    "    \"country\": \"Unknown\",\n",
    "    \"association\": \"Unknown\"\n",
    "})\n",
    "\n",
    "# 4. Fill missing 'weight_class' based on 'weight'\n",
    "# Example weight ranges mapped to weight classes\n",
    "fighters_df_clean = fighters_df_clean.withColumn(\n",
    "    \"weight_class\",\n",
    "    when(col(\"weight\").isNull(), \"Unknown\")\n",
    "    .when(col(\"weight\") <= 57, \"Flyweight\")\n",
    "    .when((col(\"weight\") > 57) & (col(\"weight\") <= 61), \"Bantamweight\")\n",
    "    .when((col(\"weight\") > 61) & (col(\"weight\") <= 66), \"Featherweight\")\n",
    "    .when((col(\"weight\") > 66) & (col(\"weight\") <= 70), \"Lightweight\")\n",
    "    .when((col(\"weight\") > 70) & (col(\"weight\") <= 77), \"Welterweight\")\n",
    "    .when((col(\"weight\") > 77) & (col(\"weight\") <= 84), \"Middleweight\")\n",
    "    .when((col(\"weight\") > 84) & (col(\"weight\") <= 93), \"Light Heavyweight\")\n",
    "    .when((col(\"weight\") > 93) & (col(\"weight\") <= 120), \"Heavyweight\")\n",
    "    .otherwise(\"Unknown\")\n",
    ")\n",
    "\n",
    "# 5. Height -> From string to numerical values\n",
    "# Extract feet and inches using regular expressions\n",
    "fighters_df_clean = fighters_df_clean.withColumn(\"feet\", regexp_extract(col(\"height\"), r\"(\\d+)'\", 1).cast(\"int\"))\n",
    "fighters_df_clean = fighters_df_clean.withColumn(\"inches\", regexp_extract(col(\"height\"), r\"'(\\d+)\", 1).cast(\"int\"))\n",
    "\n",
    "# Convert to total inches\n",
    "fighters_df_clean = fighters_df_clean.withColumn(\"height\", (col(\"feet\") * 12) + col(\"inches\"))\n",
    "\n",
    "# Drop the intermediate columns if desired\n",
    "fighters_df_clean = fighters_df_clean.drop(\"feet\", \"inches\")\n",
    "\n",
    "# 6. Weight to numerical values\n",
    "# Remove 'lbs' and convert to integer\n",
    "fighters_df_clean = fighters_df_clean.withColumn(\"weight\", regexp_replace(col(\"weight\"), \" lbs\", \"\").cast(\"int\"))\n"
   ]
  },
  {
   "cell_type": "code",
   "execution_count": 29,
   "id": "83d27994-d252-4836-be35-d9e6c26faa0d",
   "metadata": {},
   "outputs": [],
   "source": [
    "fighters_df_clean = fighters_df_clean.drop(\"death_date\", \"wins_other\", \"losses_other\")"
   ]
  },
  {
   "cell_type": "code",
   "execution_count": 30,
   "id": "9d336bbd-bd0f-459d-aae9-ad70747e272b",
   "metadata": {},
   "outputs": [
    {
     "name": "stdout",
     "output_type": "stream",
     "text": [
      "\n",
      "Missing Values in Historical Fights Dataset:\n",
      "+---+------------+--------+----------+---+--------+-------+------+------+-----------+------------+----+-------+---------------+-------------+-------+---------+-----------------+---------------+\n",
      "|url|fighter_name|nickname|birth_date|age|location|country|height|weight|association|weight_class|wins|wins_ko|wins_submission|wins_decision|lossess|losses_ko|losses_submission|losses_decision|\n",
      "+---+------------+--------+----------+---+--------+-------+------+------+-----------+------------+----+-------+---------------+-------------+-------+---------+-----------------+---------------+\n",
      "|  0|           0|       0|         0|  0|       0|      0|     0|     0|          0|           0|   0|      0|              0|            0|      0|        0|                0|              0|\n",
      "+---+------------+--------+----------+---+--------+-------+------+------+-----------+------------+----+-------+---------------+-------------+-------+---------+-----------------+---------------+\n",
      "\n"
     ]
    }
   ],
   "source": [
    "check_missing_values(fighters_df_clean, \"Historical Fights Dataset\")"
   ]
  },
  {
   "cell_type": "code",
   "execution_count": 31,
   "id": "4699006c-e11a-4dd0-82a8-8147e07df25f",
   "metadata": {},
   "outputs": [
    {
     "name": "stdout",
     "output_type": "stream",
     "text": [
      "\n",
      "Missing Values in Historical Fights Dataset:\n",
      "+----------+-----------+-------+--------+----+--------+-------+------+---------+-----------+------+--------------+---------------------+--------------------+---------+-------------------+----------------+-------------+---------------+------------+--------------------+----------+---------------------+-------------------+--------------------------+-----------------------+---------------------------+------------+--------------------+---------------------------+--------+----------+-------------+------------+-------------+--------------------+-------------------+--------+------------------+---------------+------------+--------------+-----------+-------------------+---------+--------------------+------------------+-------------------------+----------------------+--------------------------+-----------+-------------------+--------------------------+-------+---------+------------+-----------+------------+------+-------+-------------+------------+-------------------+------+-------+-------------+-----------------+-----+------+---------+--------+------+---------+------------+--------+----------+------+-------------+-----------+---------------+------------------+----------+-----------+--------+--------+-------+-------+\n",
      "|RedFighter|BlueFighter|RedOdds|BlueOdds|Date|Location|Country|Winner|TitleBout|WeightClass|Gender|NumberOfRounds|BlueCurrentLoseStreak|BlueCurrentWinStreak|BlueDraws|BlueAvgSigStrLanded|BlueAvgSigStrPct|BlueAvgSubAtt|BlueAvgTDLanded|BlueAvgTDPct|BlueLongestWinStreak|BlueLosses|BlueTotalRoundsFought|BlueTotalTitleBouts|BlueWinsByDecisionMajority|BlueWinsByDecisionSplit|BlueWinsByDecisionUnanimous|BlueWinsByKO|BlueWinsBySubmission|BlueWinsByTKODoctorStoppage|BlueWins|BlueStance|BlueHeightCms|BlueReachCms|BlueWeightLbs|RedCurrentLoseStreak|RedCurrentWinStreak|RedDraws|RedAvgSigStrLanded|RedAvgSigStrPct|RedAvgSubAtt|RedAvgTDLanded|RedAvgTDPct|RedLongestWinStreak|RedLosses|RedTotalRoundsFought|RedTotalTitleBouts|RedWinsByDecisionMajority|RedWinsByDecisionSplit|RedWinsByDecisionUnanimous|RedWinsByKO|RedWinsBySubmission|RedWinsByTKODoctorStoppage|RedWins|RedStance|RedHeightCms|RedReachCms|RedWeightLbs|RedAge|BlueAge|LoseStreakDif|WinStreakDif|LongestWinStreakDif|WinDif|LossDif|TotalRoundDif|TotalTitleBoutDif|KODif|SubDif|HeightDif|ReachDif|AgeDif|SigStrDif|AvgSubAttDif|AvgTDDif|BetterRank|Finish|FinishDetails|FinishRound|FinishRoundTime|TotalFightTimeSecs|RedDecOdds|BlueDecOdds|RSubOdds|BSubOdds|RKOOdds|BKOOdds|\n",
      "+----------+-----------+-------+--------+----+--------+-------+------+---------+-----------+------+--------------+---------------------+--------------------+---------+-------------------+----------------+-------------+---------------+------------+--------------------+----------+---------------------+-------------------+--------------------------+-----------------------+---------------------------+------------+--------------------+---------------------------+--------+----------+-------------+------------+-------------+--------------------+-------------------+--------+------------------+---------------+------------+--------------+-----------+-------------------+---------+--------------------+------------------+-------------------------+----------------------+--------------------------+-----------+-------------------+--------------------------+-------+---------+------------+-----------+------------+------+-------+-------------+------------+-------------------+------+-------+-------------+-----------------+-----+------+---------+--------+------+---------+------------+--------+----------+------+-------------+-----------+---------------+------------------+----------+-----------+--------+--------+-------+-------+\n",
      "|         0|          0|      0|       0|   0|       0|      0|     0|        0|          0|     0|             0|                    0|                   0|        0|                  0|               0|            0|              0|           0|                   0|         0|                    0|                  0|                         0|                      0|                          0|           0|                   0|                          0|       0|         0|            0|           0|            0|                   0|                  0|       0|                 0|              0|           0|             0|          0|                  0|        0|                   0|                 0|                        0|                     0|                         0|          0|                  0|                         0|      0|        0|           0|          0|           0|     0|      0|            0|           0|                  0|     0|      0|            0|                0|    0|     0|        0|       0|     0|        0|           0|       0|         0|     0|            0|          0|              0|                 0|         0|          0|       0|       0|      0|      0|\n",
      "+----------+-----------+-------+--------+----+--------+-------+------+---------+-----------+------+--------------+---------------------+--------------------+---------+-------------------+----------------+-------------+---------------+------------+--------------------+----------+---------------------+-------------------+--------------------------+-----------------------+---------------------------+------------+--------------------+---------------------------+--------+----------+-------------+------------+-------------+--------------------+-------------------+--------+------------------+---------------+------------+--------------+-----------+-------------------+---------+--------------------+------------------+-------------------------+----------------------+--------------------------+-----------+-------------------+--------------------------+-------+---------+------------+-----------+------------+------+-------+-------------+------------+-------------------+------+-------+-------------+-----------------+-----+------+---------+--------+------+---------+------------+--------+----------+------+-------------+-----------+---------------+------------------+----------+-----------+--------+--------+-------+-------+\n",
      "\n",
      "\n",
      "Missing Values in Upcoming Fights Dataset:\n",
      "+----------+-----------+-------+--------+----------------+-----------------+----+--------+-------+------+---------+-----------+------+--------------+---------------------+--------------------+---------+-------------------+----------------+-------------+---------------+------------+--------------------+----------+---------------------+-------------------+--------------------------+-----------------------+---------------------------+------------+--------------------+---------------------------+--------+----------+-------------+------------+-------------+--------------------+-------------------+--------+------------------+---------------+------------+--------------+-----------+-------------------+---------+--------------------+------------------+-------------------------+----------------------+--------------------------+-----------+-------------------+--------------------------+-------+---------+------------+-----------+------------+------+-------+-------------+------------+-------------------+------+-------+-------------+-----------------+-----+------+---------+--------+------+---------+------------+--------+----------+-----------+--------+--------+-------+-------+\n",
      "|RedFighter|BlueFighter|RedOdds|BlueOdds|RedExpectedValue|BlueExpectedValue|Date|Location|Country|Winner|TitleBout|WeightClass|Gender|NumberOfRounds|BlueCurrentLoseStreak|BlueCurrentWinStreak|BlueDraws|BlueAvgSigStrLanded|BlueAvgSigStrPct|BlueAvgSubAtt|BlueAvgTDLanded|BlueAvgTDPct|BlueLongestWinStreak|BlueLosses|BlueTotalRoundsFought|BlueTotalTitleBouts|BlueWinsByDecisionMajority|BlueWinsByDecisionSplit|BlueWinsByDecisionUnanimous|BlueWinsByKO|BlueWinsBySubmission|BlueWinsByTKODoctorStoppage|BlueWins|BlueStance|BlueHeightCms|BlueReachCms|BlueWeightLbs|RedCurrentLoseStreak|RedCurrentWinStreak|RedDraws|RedAvgSigStrLanded|RedAvgSigStrPct|RedAvgSubAtt|RedAvgTDLanded|RedAvgTDPct|RedLongestWinStreak|RedLosses|RedTotalRoundsFought|RedTotalTitleBouts|RedWinsByDecisionMajority|RedWinsByDecisionSplit|RedWinsByDecisionUnanimous|RedWinsByKO|RedWinsBySubmission|RedWinsByTKODoctorStoppage|RedWins|RedStance|RedHeightCms|RedReachCms|RedWeightLbs|RedAge|BlueAge|LoseStreakDif|WinStreakDif|LongestWinStreakDif|WinDif|LossDif|TotalRoundDif|TotalTitleBoutDif|KODif|SubDif|HeightDif|ReachDif|AgeDif|SigStrDif|AvgSubAttDif|AvgTDDif|RedDecOdds|BlueDecOdds|RSubOdds|BSubOdds|RKOOdds|BKOOdds|\n",
      "+----------+-----------+-------+--------+----------------+-----------------+----+--------+-------+------+---------+-----------+------+--------------+---------------------+--------------------+---------+-------------------+----------------+-------------+---------------+------------+--------------------+----------+---------------------+-------------------+--------------------------+-----------------------+---------------------------+------------+--------------------+---------------------------+--------+----------+-------------+------------+-------------+--------------------+-------------------+--------+------------------+---------------+------------+--------------+-----------+-------------------+---------+--------------------+------------------+-------------------------+----------------------+--------------------------+-----------+-------------------+--------------------------+-------+---------+------------+-----------+------------+------+-------+-------------+------------+-------------------+------+-------+-------------+-----------------+-----+------+---------+--------+------+---------+------------+--------+----------+-----------+--------+--------+-------+-------+\n",
      "|         0|          0|      0|       0|               0|                0|   0|       0|      0|    14|        0|          0|     0|             0|                    0|                   0|        0|                  0|               0|            0|              0|           0|                   0|         0|                    0|                  0|                         0|                      0|                          0|           0|                   0|                          0|       0|         0|            0|           0|            0|                   0|                  0|       0|                 0|              0|           0|             0|          0|                  0|        0|                   0|                 0|                        0|                     0|                         0|          0|                  0|                         0|      0|        0|           0|          0|           0|     0|      0|            0|           0|                  0|     0|      0|            0|                0|    0|     0|        0|       0|     0|        0|           0|       0|         0|          0|       0|       0|      0|      0|\n",
      "+----------+-----------+-------+--------+----------------+-----------------+----+--------+-------+------+---------+-----------+------+--------------+---------------------+--------------------+---------+-------------------+----------------+-------------+---------------+------------+--------------------+----------+---------------------+-------------------+--------------------------+-----------------------+---------------------------+------------+--------------------+---------------------------+--------+----------+-------------+------------+-------------+--------------------+-------------------+--------+------------------+---------------+------------+--------------+-----------+-------------------+---------+--------------------+------------------+-------------------------+----------------------+--------------------------+-----------+-------------------+--------------------------+-------+---------+------------+-----------+------------+------+-------+-------------+------------+-------------------+------+-------+-------------+-----------------+-----+------+---------+--------+------+---------+------------+--------+----------+-----------+--------+--------+-------+-------+\n",
      "\n",
      "\n",
      "Missing Values in Rankings Fights Dataset:\n",
      "+----+-----------+-------+----+\n",
      "|date|weightclass|fighter|rank|\n",
      "+----+-----------+-------+----+\n",
      "|   0|          0|      0|   0|\n",
      "+----+-----------+-------+----+\n",
      "\n"
     ]
    }
   ],
   "source": [
    "check_missing_values(history_df_clean, \"Historical Fights Dataset\")\n",
    "check_missing_values(upcoming_df_clean, \"Upcoming Fights Dataset\")\n",
    "check_missing_values(rankings_df_clean, \"Rankings Fights Dataset\")"
   ]
  },
  {
   "cell_type": "markdown",
   "id": "7dc0d586-2f38-40cc-ae19-3798b4f5cf21",
   "metadata": {},
   "source": [
    "Now no datasets have any mising values - except Winner in Historical fight which is what we are trying to predict. SILVER STATUS\n",
    "\n",
    "Handled Missing Values:\n",
    "\n",
    "Critical values like fighter_name, birth_date, and age were managed by dropping rows.\n",
    "Other fields like nickname, location, country, association, and weight_class were filled with appropriate defaults.\n",
    "Removed Unnecessary Columns:\n",
    "\n",
    "Dropped columns such as death_date, wins_other, and losses_other that weren't useful for analysis.\n",
    "Filled Contextual Missing Values:\n",
    "\n",
    "For history_df_clean, columns like BlueAvgSigStrLanded, RedAvgSigStrLanded, etc., were filled using the median to prevent outliers from affecting the data.\n",
    "Columns related to fight finishes were filled with meaningful defaults.\n",
    "Ensured Data Consistency:\n",
    "\n",
    "Standardized string formats (e.g., uppercase).\n",
    "Checked for and removed duplicates.\n",
    "Ensured all datasets are clean and consistent.\n",
    "Managed Target Column:\n",
    "\n",
    "The Winner column in history_df_clean remains with missing values since it's the target variable for prediction."
   ]
  },
  {
   "cell_type": "markdown",
   "id": "4858b90f-a5b2-49d4-861e-88b2948dd57a",
   "metadata": {},
   "source": [
    "<a id='2.4'></a>\n",
    "###  Write DataFrames to Silver"
   ]
  },
  {
   "cell_type": "code",
   "execution_count": 32,
   "id": "7b3860ad-e1de-45ad-9178-fcc21aedd6cc",
   "metadata": {},
   "outputs": [
    {
     "data": {
      "text/plain": [
       "DataFrame[]"
      ]
     },
     "execution_count": 32,
     "metadata": {},
     "output_type": "execute_result"
    },
    {
     "data": {
      "text/plain": [
       "DataFrame[]"
      ]
     },
     "execution_count": 32,
     "metadata": {},
     "output_type": "execute_result"
    }
   ],
   "source": [
    "spark.sql(\"DROP SCHEMA IF EXISTS ufc CASCADE\")\n",
    "spark.sql(\"CREATE SCHEMA IF NOT EXISTS ufc\")"
   ]
  },
  {
   "cell_type": "code",
   "execution_count": 33,
   "id": "50b76971-c287-4148-a46c-2752cff9e968",
   "metadata": {},
   "outputs": [
    {
     "name": "stderr",
     "output_type": "stream",
     "text": [
      "                                                                                \r"
     ]
    }
   ],
   "source": [
    "(fighters_df_clean.write\n",
    "            .format(\"delta\")\n",
    "            .mode(\"overwrite\")\n",
    "            .option(\"path\",f\"{hdfs_lakehouse_base_path}/silver/UFC/UFC-fighters\")\n",
    "            .saveAsTable(\"ufc.fighters\")\n",
    ")\n",
    "\n",
    "(history_df_clean.write\n",
    "            .format(\"delta\")\n",
    "            .mode(\"overwrite\")\n",
    "            .option(\"path\",f\"{hdfs_lakehouse_base_path}/silver/UFC/UFC-fights/previous_fights\")\n",
    "            .saveAsTable(\"ufc.previous_fights\")\n",
    ")\n",
    "\n",
    "(upcoming_df_clean.write\n",
    "            .format(\"delta\")\n",
    "            .mode(\"overwrite\")\n",
    "            .option(\"path\",f\"{hdfs_lakehouse_base_path}/silver/UFC/UFC-fights/upcoming_fights\")\n",
    "            .saveAsTable(\"ufc.upcoming_fights\")\n",
    ")\n",
    "\n",
    "(rankings_df_clean.write\n",
    "            .format(\"delta\")\n",
    "            .mode(\"overwrite\")\n",
    "            .option(\"path\",f\"{hdfs_lakehouse_base_path}/silver/UFC/UFC-rankings\")\n",
    "            .saveAsTable(\"ufc.rankings\")\n",
    ")\n"
   ]
  },
  {
   "cell_type": "code",
   "execution_count": 34,
   "id": "82ba3409-13d4-47a1-8598-8ddacb3b496c",
   "metadata": {},
   "outputs": [
    {
     "name": "stdout",
     "output_type": "stream",
     "text": [
      "Execution time: 0.09 seconds\n"
     ]
    },
    {
     "data": {
      "application/vnd.jupyter.widget-view+json": {
       "model_id": "43344ce9485f4220991a881697b4b61f",
       "version_major": 2,
       "version_minor": 0
      },
      "text/plain": [
       "SparkSchemaWidget(nodes=(Node(close_icon='angle-down', close_icon_style='danger', icon='project-diagram', icon…"
      ]
     },
     "metadata": {},
     "output_type": "display_data"
    },
    {
     "data": {
      "text/html": [
       "<a class=\"external\" href=\"http://10.0.2.15:4040\" target=\"_blank\" >Open Spark UI ⭐ UFC_BRZ to SLVR</a>"
      ],
      "text/plain": [
       "<IPython.core.display.HTML object>"
      ]
     },
     "metadata": {},
     "output_type": "display_data"
    },
    {
     "data": {
      "text/html": [
       "<table><table border='1'>\n",
       "<tr><th>namespace</th></tr>\n",
       "<tr><td>default</td></tr>\n",
       "<tr><td>movielens</td></tr>\n",
       "<tr><td>pokemon</td></tr>\n",
       "<tr><td>ufc</td></tr>\n",
       "</table>\n",
       "</table>"
      ],
      "text/plain": [
       "<IPython.core.display.HTML object>"
      ]
     },
     "metadata": {},
     "output_type": "display_data"
    }
   ],
   "source": [
    "%%sparksql\n",
    "show databases"
   ]
  },
  {
   "cell_type": "code",
   "execution_count": 35,
   "id": "a57bf702-5ea1-43af-a892-b4a6e3983194",
   "metadata": {},
   "outputs": [
    {
     "name": "stdout",
     "output_type": "stream",
     "text": [
      "Execution time: 0.03 seconds\n"
     ]
    },
    {
     "data": {
      "application/vnd.jupyter.widget-view+json": {
       "model_id": "e4ee4c96c9dc4553a660afd955547b6b",
       "version_major": 2,
       "version_minor": 0
      },
      "text/plain": [
       "SparkSchemaWidget(nodes=(Node(close_icon='angle-down', close_icon_style='danger', icon='project-diagram', icon…"
      ]
     },
     "metadata": {},
     "output_type": "display_data"
    },
    {
     "data": {
      "text/html": [
       "<a class=\"external\" href=\"http://10.0.2.15:4040\" target=\"_blank\" >Open Spark UI ⭐ UFC_BRZ to SLVR</a>"
      ],
      "text/plain": [
       "<IPython.core.display.HTML object>"
      ]
     },
     "metadata": {},
     "output_type": "display_data"
    },
    {
     "data": {
      "text/html": [
       "<table><table border='1'>\n",
       "<tr><th></th></tr>\n",
       "</table>\n",
       "</table>"
      ],
      "text/plain": [
       "<IPython.core.display.HTML object>"
      ]
     },
     "metadata": {},
     "output_type": "display_data"
    }
   ],
   "source": [
    "%%sparksql\n",
    "use ufc"
   ]
  },
  {
   "cell_type": "code",
   "execution_count": 36,
   "id": "dd508fef-2d43-4533-861e-9c980f90b397",
   "metadata": {},
   "outputs": [
    {
     "name": "stdout",
     "output_type": "stream",
     "text": [
      "Execution time: 0.04 seconds\n"
     ]
    },
    {
     "data": {
      "application/vnd.jupyter.widget-view+json": {
       "model_id": "d2b8edc3a1b14290b7aa3af25076df6d",
       "version_major": 2,
       "version_minor": 0
      },
      "text/plain": [
       "SparkSchemaWidget(nodes=(Node(close_icon='angle-down', close_icon_style='danger', icon='project-diagram', icon…"
      ]
     },
     "metadata": {},
     "output_type": "display_data"
    },
    {
     "data": {
      "text/html": [
       "<a class=\"external\" href=\"http://10.0.2.15:4040\" target=\"_blank\" >Open Spark UI ⭐ UFC_BRZ to SLVR</a>"
      ],
      "text/plain": [
       "<IPython.core.display.HTML object>"
      ]
     },
     "metadata": {},
     "output_type": "display_data"
    },
    {
     "data": {
      "text/html": [
       "<table><table border='1'>\n",
       "<tr><th>namespace</th><th>tableName</th><th>isTemporary</th></tr>\n",
       "<tr><td>ufc</td><td>fighters</td><td>False</td></tr>\n",
       "<tr><td>ufc</td><td>previous_fights</td><td>False</td></tr>\n",
       "<tr><td>ufc</td><td>rankings</td><td>False</td></tr>\n",
       "<tr><td>ufc</td><td>upcoming_fights</td><td>False</td></tr>\n",
       "</table>\n",
       "</table>"
      ],
      "text/plain": [
       "<IPython.core.display.HTML object>"
      ]
     },
     "metadata": {},
     "output_type": "display_data"
    }
   ],
   "source": [
    "%%sparksql\n",
    "show tables"
   ]
  },
  {
   "cell_type": "code",
   "execution_count": 37,
   "id": "022a6af1-a77f-4542-8880-91f457627da1",
   "metadata": {},
   "outputs": [
    {
     "name": "stdout",
     "output_type": "stream",
     "text": [
      "Execution time: 1.07 seconds\n"
     ]
    },
    {
     "data": {
      "application/vnd.jupyter.widget-view+json": {
       "model_id": "f1b79d6395104ff4bf717a433bdceb34",
       "version_major": 2,
       "version_minor": 0
      },
      "text/plain": [
       "SparkSchemaWidget(nodes=(Node(close_icon='angle-down', close_icon_style='danger', icon='project-diagram', icon…"
      ]
     },
     "metadata": {},
     "output_type": "display_data"
    },
    {
     "data": {
      "text/html": [
       "<a class=\"external\" href=\"http://10.0.2.15:4040\" target=\"_blank\" >Open Spark UI ⭐ UFC_BRZ to SLVR</a>"
      ],
      "text/plain": [
       "<IPython.core.display.HTML object>"
      ]
     },
     "metadata": {},
     "output_type": "display_data"
    },
    {
     "data": {
      "text/html": [
       "<table><table border='1'>\n",
       "<tr><th>url</th><th>fighter_name</th><th>nickname</th><th>birth_date</th><th>age</th><th>location</th><th>country</th><th>height</th><th>weight</th><th>association</th><th>weight_class</th><th>wins</th><th>wins_ko</th><th>wins_submission</th><th>wins_decision</th><th>lossess</th><th>losses_ko</th><th>losses_submission</th><th>losses_decision</th></tr>\n",
       "<tr><td>/fighter/Kharun-Atlangeriev-167431</td><td>Kharun Atlangeriev</td><td>Predator</td><td>05/10/1992</td><td>28</td><td>Unknown</td><td>Russia</td><td>70</td><td>155</td><td>OFS Team</td><td>Unknown</td><td>11</td><td>5</td><td>5</td><td>1</td><td>11</td><td>0</td><td>1</td><td>1</td></tr>\n",
       "<tr><td>/fighter/Ryan-Keenan-33827</td><td>Ryan Keenan</td><td>Who Dat?</td><td>15/06/1985</td><td>36</td><td>Windermere, Florida</td><td>United States</td><td>72</td><td>155</td><td>Gracie Orlando</td><td>Unknown</td><td>6</td><td>3</td><td>3</td><td>0</td><td>6</td><td>1</td><td>1</td><td>0</td></tr>\n",
       "<tr><td>/fighter/Dustin-Jacoby-73825</td><td>Dustin Jacoby</td><td>The Hanyak</td><td>04/04/1988</td><td>33</td><td>Arenzville, Illinois</td><td>United States</td><td>76</td><td>205</td><td>Factory X</td><td>Unknown</td><td>14</td><td>9</td><td>1</td><td>4</td><td>14</td><td>1</td><td>2</td><td>2</td></tr>\n",
       "<tr><td>/fighter/Richardson-Moreira-72825</td><td>Richardson Moreira</td><td>Rick Monstro</td><td>31/03/1984</td><td>37</td><td>Campinas, Sao Paulo</td><td>Brazil</td><td>74</td><td>205</td><td>Team Nogueira</td><td>Unknown</td><td>8</td><td>2</td><td>5</td><td>1</td><td>8</td><td>1</td><td>1</td><td>3</td></tr>\n",
       "<tr><td>/fighter/Chris-Haseman-1449</td><td>Chris Haseman</td><td>The Hammer</td><td>02/06/1969</td><td>52</td><td>Unknown</td><td>Australia</td><td>71</td><td>198</td><td>Rings Australia</td><td>Unknown</td><td>20</td><td>2</td><td>14</td><td>3</td><td>20</td><td>8</td><td>3</td><td>6</td></tr>\n",
       "<tr><td>/fighter/Fares-Ziam-184241</td><td>Fares Ziam</td><td>Smile Killer</td><td>21/03/1997</td><td>24</td><td>Lyon</td><td>France</td><td>72</td><td>155</td><td>Team Ezbiri</td><td>Unknown</td><td>12</td><td>5</td><td>4</td><td>3</td><td>12</td><td>0</td><td>2</td><td>1</td></tr>\n",
       "<tr><td>/fighter/James-Bochnovic-130011</td><td>James Bochnovic</td><td>No Nickname</td><td>13/02/1989</td><td>32</td><td>Kenosha, Wisconsin</td><td>United States</td><td>76</td><td>185</td><td>Rothwell MMA</td><td>Unknown</td><td>10</td><td>1</td><td>9</td><td>0</td><td>10</td><td>2</td><td>2</td><td>1</td></tr>\n",
       "<tr><td>/fighter/Adrian-Pang-8427</td><td>Adrian Pang</td><td>The Hunter</td><td>02/09/1977</td><td>43</td><td>Kokopo, East New Britain</td><td>Papua New Guinea</td><td>67</td><td>155</td><td>Integrated MMA</td><td>Unknown</td><td>23</td><td>6</td><td>10</td><td>7</td><td>23</td><td>3</td><td>1</td><td>9</td></tr>\n",
       "<tr><td>/fighter/Haobin-Ma-214849</td><td>Haobin Ma</td><td>The Southern Eagle</td><td>23/01/1994</td><td>27</td><td>Unknown</td><td>China</td><td>0</td><td>125</td><td>Jincan Defense Club</td><td>Unknown</td><td>13</td><td>3</td><td>5</td><td>5</td><td>13</td><td>2</td><td>1</td><td>5</td></tr>\n",
       "<tr><td>/fighter/Journey-Newson-77464</td><td>Journey Newson</td><td>No Nickname</td><td>07/03/1989</td><td>32</td><td>Beaverton, Oregon</td><td>United States</td><td>65</td><td>135</td><td>Impact Jiu Jitsu</td><td>Unknown</td><td>9</td><td>3</td><td>3</td><td>3</td><td>9</td><td>2</td><td>0</td><td>1</td></tr>\n",
       "</table>\n",
       "</table>"
      ],
      "text/plain": [
       "<IPython.core.display.HTML object>"
      ]
     },
     "metadata": {},
     "output_type": "display_data"
    },
    {
     "name": "stderr",
     "output_type": "stream",
     "text": [
      "24/12/15 02:48:52 ERROR Inbox: Ignoring error\n",
      "org.apache.spark.SparkException: Exception thrown in awaitResult: \n",
      "\tat org.apache.spark.util.SparkThreadUtils$.awaitResult(SparkThreadUtils.scala:56)\n",
      "\tat org.apache.spark.util.ThreadUtils$.awaitResult(ThreadUtils.scala:310)\n",
      "\tat org.apache.spark.rpc.RpcTimeout.awaitResult(RpcTimeout.scala:75)\n",
      "\tat org.apache.spark.rpc.RpcEnv.setupEndpointRefByURI(RpcEnv.scala:102)\n",
      "\tat org.apache.spark.rpc.RpcEnv.setupEndpointRef(RpcEnv.scala:110)\n",
      "\tat org.apache.spark.util.RpcUtils$.makeDriverRef(RpcUtils.scala:36)\n",
      "\tat org.apache.spark.storage.BlockManagerMasterEndpoint.driverEndpoint$lzycompute(BlockManagerMasterEndpoint.scala:124)\n",
      "\tat org.apache.spark.storage.BlockManagerMasterEndpoint.org$apache$spark$storage$BlockManagerMasterEndpoint$$driverEndpoint(BlockManagerMasterEndpoint.scala:123)\n",
      "\tat org.apache.spark.storage.BlockManagerMasterEndpoint.isExecutorAlive$lzycompute$1(BlockManagerMasterEndpoint.scala:688)\n",
      "\tat org.apache.spark.storage.BlockManagerMasterEndpoint.isExecutorAlive$1(BlockManagerMasterEndpoint.scala:687)\n",
      "\tat org.apache.spark.storage.BlockManagerMasterEndpoint.org$apache$spark$storage$BlockManagerMasterEndpoint$$register(BlockManagerMasterEndpoint.scala:725)\n",
      "\tat org.apache.spark.storage.BlockManagerMasterEndpoint$$anonfun$receiveAndReply$1.applyOrElse(BlockManagerMasterEndpoint.scala:133)\n",
      "\tat org.apache.spark.rpc.netty.Inbox.$anonfun$process$1(Inbox.scala:103)\n",
      "\tat org.apache.spark.rpc.netty.Inbox.safelyCall(Inbox.scala:213)\n",
      "\tat org.apache.spark.rpc.netty.Inbox.process(Inbox.scala:100)\n",
      "\tat org.apache.spark.rpc.netty.MessageLoop.org$apache$spark$rpc$netty$MessageLoop$$receiveLoop(MessageLoop.scala:75)\n",
      "\tat org.apache.spark.rpc.netty.MessageLoop$$anon$1.run(MessageLoop.scala:41)\n",
      "\tat java.base/java.util.concurrent.ThreadPoolExecutor.runWorker(ThreadPoolExecutor.java:1136)\n",
      "\tat java.base/java.util.concurrent.ThreadPoolExecutor$Worker.run(ThreadPoolExecutor.java:635)\n",
      "\tat java.base/java.lang.Thread.run(Thread.java:840)\n",
      "Caused by: org.apache.spark.rpc.RpcEndpointNotFoundException: Cannot find endpoint: spark://CoarseGrainedScheduler@10.0.2.15:42393\n",
      "\tat org.apache.spark.rpc.netty.NettyRpcEnv.$anonfun$asyncSetupEndpointRefByURI$1(NettyRpcEnv.scala:148)\n",
      "\tat org.apache.spark.rpc.netty.NettyRpcEnv.$anonfun$asyncSetupEndpointRefByURI$1$adapted(NettyRpcEnv.scala:144)\n",
      "\tat scala.concurrent.Future.$anonfun$flatMap$1(Future.scala:307)\n",
      "\tat scala.concurrent.impl.Promise.$anonfun$transformWith$1(Promise.scala:41)\n",
      "\tat scala.concurrent.impl.CallbackRunnable.run(Promise.scala:64)\n",
      "\tat org.apache.spark.util.ThreadUtils$$anon$1.execute(ThreadUtils.scala:99)\n",
      "\tat scala.concurrent.impl.ExecutionContextImpl$$anon$4.execute(ExecutionContextImpl.scala:138)\n",
      "\tat scala.concurrent.impl.CallbackRunnable.executeWithValue(Promise.scala:72)\n",
      "\tat scala.concurrent.impl.Promise$DefaultPromise.dispatchOrAddCallback(Promise.scala:316)\n",
      "\tat scala.concurrent.impl.Promise$DefaultPromise.onComplete(Promise.scala:307)\n",
      "\tat scala.concurrent.impl.Promise.transformWith(Promise.scala:40)\n",
      "\tat scala.concurrent.impl.Promise.transformWith$(Promise.scala:38)\n",
      "\tat scala.concurrent.impl.Promise$DefaultPromise.transformWith(Promise.scala:187)\n",
      "\tat scala.concurrent.Future.flatMap(Future.scala:306)\n",
      "\tat scala.concurrent.Future.flatMap$(Future.scala:306)\n",
      "\tat scala.concurrent.impl.Promise$DefaultPromise.flatMap(Promise.scala:187)\n",
      "\tat org.apache.spark.rpc.netty.NettyRpcEnv.asyncSetupEndpointRefByURI(NettyRpcEnv.scala:150)\n",
      "\t... 17 more\n",
      "24/12/15 02:49:02 ERROR Inbox: Ignoring error\n",
      "org.apache.spark.SparkException: Exception thrown in awaitResult: \n",
      "\tat org.apache.spark.util.SparkThreadUtils$.awaitResult(SparkThreadUtils.scala:56)\n",
      "\tat org.apache.spark.util.ThreadUtils$.awaitResult(ThreadUtils.scala:310)\n",
      "\tat org.apache.spark.rpc.RpcTimeout.awaitResult(RpcTimeout.scala:75)\n",
      "\tat org.apache.spark.rpc.RpcEnv.setupEndpointRefByURI(RpcEnv.scala:102)\n",
      "\tat org.apache.spark.rpc.RpcEnv.setupEndpointRef(RpcEnv.scala:110)\n",
      "\tat org.apache.spark.util.RpcUtils$.makeDriverRef(RpcUtils.scala:36)\n",
      "\tat org.apache.spark.storage.BlockManagerMasterEndpoint.driverEndpoint$lzycompute(BlockManagerMasterEndpoint.scala:124)\n",
      "\tat org.apache.spark.storage.BlockManagerMasterEndpoint.org$apache$spark$storage$BlockManagerMasterEndpoint$$driverEndpoint(BlockManagerMasterEndpoint.scala:123)\n",
      "\tat org.apache.spark.storage.BlockManagerMasterEndpoint.isExecutorAlive$lzycompute$1(BlockManagerMasterEndpoint.scala:688)\n",
      "\tat org.apache.spark.storage.BlockManagerMasterEndpoint.isExecutorAlive$1(BlockManagerMasterEndpoint.scala:687)\n",
      "\tat org.apache.spark.storage.BlockManagerMasterEndpoint.org$apache$spark$storage$BlockManagerMasterEndpoint$$register(BlockManagerMasterEndpoint.scala:725)\n",
      "\tat org.apache.spark.storage.BlockManagerMasterEndpoint$$anonfun$receiveAndReply$1.applyOrElse(BlockManagerMasterEndpoint.scala:133)\n",
      "\tat org.apache.spark.rpc.netty.Inbox.$anonfun$process$1(Inbox.scala:103)\n",
      "\tat org.apache.spark.rpc.netty.Inbox.safelyCall(Inbox.scala:213)\n",
      "\tat org.apache.spark.rpc.netty.Inbox.process(Inbox.scala:100)\n",
      "\tat org.apache.spark.rpc.netty.MessageLoop.org$apache$spark$rpc$netty$MessageLoop$$receiveLoop(MessageLoop.scala:75)\n",
      "\tat org.apache.spark.rpc.netty.MessageLoop$$anon$1.run(MessageLoop.scala:41)\n",
      "\tat java.base/java.util.concurrent.ThreadPoolExecutor.runWorker(ThreadPoolExecutor.java:1136)\n",
      "\tat java.base/java.util.concurrent.ThreadPoolExecutor$Worker.run(ThreadPoolExecutor.java:635)\n",
      "\tat java.base/java.lang.Thread.run(Thread.java:840)\n",
      "Caused by: org.apache.spark.rpc.RpcEndpointNotFoundException: Cannot find endpoint: spark://CoarseGrainedScheduler@10.0.2.15:42393\n",
      "\tat org.apache.spark.rpc.netty.NettyRpcEnv.$anonfun$asyncSetupEndpointRefByURI$1(NettyRpcEnv.scala:148)\n",
      "\tat org.apache.spark.rpc.netty.NettyRpcEnv.$anonfun$asyncSetupEndpointRefByURI$1$adapted(NettyRpcEnv.scala:144)\n",
      "\tat scala.concurrent.Future.$anonfun$flatMap$1(Future.scala:307)\n",
      "\tat scala.concurrent.impl.Promise.$anonfun$transformWith$1(Promise.scala:41)\n",
      "\tat scala.concurrent.impl.CallbackRunnable.run(Promise.scala:64)\n",
      "\tat org.apache.spark.util.ThreadUtils$$anon$1.execute(ThreadUtils.scala:99)\n",
      "\tat scala.concurrent.impl.ExecutionContextImpl$$anon$4.execute(ExecutionContextImpl.scala:138)\n",
      "\tat scala.concurrent.impl.CallbackRunnable.executeWithValue(Promise.scala:72)\n",
      "\tat scala.concurrent.impl.Promise$DefaultPromise.$anonfun$tryComplete$1(Promise.scala:288)\n",
      "\tat scala.concurrent.impl.Promise$DefaultPromise.$anonfun$tryComplete$1$adapted(Promise.scala:288)\n",
      "\tat scala.concurrent.impl.Promise$DefaultPromise.tryComplete(Promise.scala:288)\n",
      "\tat scala.concurrent.Promise.complete(Promise.scala:53)\n",
      "\tat scala.concurrent.Promise.complete$(Promise.scala:52)\n",
      "\tat scala.concurrent.impl.Promise$DefaultPromise.complete(Promise.scala:187)\n",
      "\tat scala.concurrent.impl.Promise.$anonfun$transform$1(Promise.scala:33)\n",
      "\tat scala.concurrent.impl.CallbackRunnable.run(Promise.scala:64)\n",
      "\tat org.apache.spark.util.ThreadUtils$$anon$1.execute(ThreadUtils.scala:99)\n",
      "\tat scala.concurrent.impl.ExecutionContextImpl$$anon$4.execute(ExecutionContextImpl.scala:138)\n",
      "\tat scala.concurrent.impl.CallbackRunnable.executeWithValue(Promise.scala:72)\n",
      "\tat scala.concurrent.impl.Promise$DefaultPromise.$anonfun$tryComplete$1(Promise.scala:288)\n",
      "\tat scala.concurrent.impl.Promise$DefaultPromise.$anonfun$tryComplete$1$adapted(Promise.scala:288)\n",
      "\tat scala.concurrent.impl.Promise$DefaultPromise.tryComplete(Promise.scala:288)\n",
      "\tat scala.concurrent.Promise.complete(Promise.scala:53)\n",
      "\tat scala.concurrent.Promise.complete$(Promise.scala:52)\n",
      "\tat scala.concurrent.impl.Promise$DefaultPromise.complete(Promise.scala:187)\n",
      "\tat scala.concurrent.impl.Promise.$anonfun$transform$1(Promise.scala:33)\n",
      "\tat scala.concurrent.impl.CallbackRunnable.run(Promise.scala:64)\n",
      "\tat scala.concurrent.BatchingExecutor$Batch.processBatch$1(BatchingExecutor.scala:67)\n",
      "\tat scala.concurrent.BatchingExecutor$Batch.$anonfun$run$1(BatchingExecutor.scala:82)\n",
      "\tat scala.runtime.java8.JFunction0$mcV$sp.apply(JFunction0$mcV$sp.java:23)\n",
      "\tat scala.concurrent.BlockContext$.withBlockContext(BlockContext.scala:85)\n",
      "\tat scala.concurrent.BatchingExecutor$Batch.run(BatchingExecutor.scala:59)\n",
      "\tat scala.concurrent.Future$InternalCallbackExecutor$.unbatchedExecute(Future.scala:875)\n",
      "\tat scala.concurrent.BatchingExecutor.execute(BatchingExecutor.scala:110)\n",
      "\tat scala.concurrent.BatchingExecutor.execute$(BatchingExecutor.scala:107)\n",
      "\tat scala.concurrent.Future$InternalCallbackExecutor$.execute(Future.scala:873)\n",
      "\tat scala.concurrent.impl.CallbackRunnable.executeWithValue(Promise.scala:72)\n",
      "\tat scala.concurrent.impl.Promise$DefaultPromise.$anonfun$tryComplete$1(Promise.scala:288)\n",
      "\tat scala.concurrent.impl.Promise$DefaultPromise.$anonfun$tryComplete$1$adapted(Promise.scala:288)\n",
      "\tat scala.concurrent.impl.Promise$DefaultPromise.tryComplete(Promise.scala:288)\n",
      "\tat scala.concurrent.Promise.trySuccess(Promise.scala:94)\n",
      "\tat scala.concurrent.Promise.trySuccess$(Promise.scala:94)\n",
      "\tat scala.concurrent.impl.Promise$DefaultPromise.trySuccess(Promise.scala:187)\n",
      "\tat org.apache.spark.rpc.netty.NettyRpcEnv.onSuccess$1(NettyRpcEnv.scala:225)\n",
      "\tat org.apache.spark.rpc.netty.NettyRpcEnv.$anonfun$askAbortable$5(NettyRpcEnv.scala:239)\n",
      "\tat org.apache.spark.rpc.netty.NettyRpcEnv.$anonfun$askAbortable$5$adapted(NettyRpcEnv.scala:238)\n",
      "\tat scala.concurrent.impl.CallbackRunnable.run(Promise.scala:64)\n",
      "\tat org.apache.spark.util.ThreadUtils$$anon$1.execute(ThreadUtils.scala:99)\n",
      "\tat scala.concurrent.impl.ExecutionContextImpl$$anon$4.execute(ExecutionContextImpl.scala:138)\n",
      "\tat scala.concurrent.impl.CallbackRunnable.executeWithValue(Promise.scala:72)\n",
      "\tat scala.concurrent.impl.Promise$DefaultPromise.$anonfun$tryComplete$1(Promise.scala:288)\n",
      "\tat scala.concurrent.impl.Promise$DefaultPromise.$anonfun$tryComplete$1$adapted(Promise.scala:288)\n",
      "\tat scala.concurrent.impl.Promise$DefaultPromise.tryComplete(Promise.scala:288)\n",
      "\tat scala.concurrent.Promise.complete(Promise.scala:53)\n",
      "\tat scala.concurrent.Promise.complete$(Promise.scala:52)\n",
      "\tat scala.concurrent.impl.Promise$DefaultPromise.complete(Promise.scala:187)\n",
      "\tat scala.concurrent.Promise.success(Promise.scala:86)\n",
      "\tat scala.concurrent.Promise.success$(Promise.scala:86)\n",
      "\tat scala.concurrent.impl.Promise$DefaultPromise.success(Promise.scala:187)\n",
      "\tat org.apache.spark.rpc.netty.LocalNettyRpcCallContext.send(NettyRpcCallContext.scala:50)\n",
      "\tat org.apache.spark.rpc.netty.NettyRpcCallContext.reply(NettyRpcCallContext.scala:32)\n",
      "\tat org.apache.spark.rpc.netty.RpcEndpointVerifier$$anonfun$receiveAndReply$1.applyOrElse(RpcEndpointVerifier.scala:31)\n",
      "\t... 8 more\n"
     ]
    }
   ],
   "source": [
    "%%sparksql\n",
    "select *\n",
    "from ufc.fighters\n",
    "limit 10"
   ]
  }
 ],
 "metadata": {
  "kernelspec": {
   "display_name": "Python 3 (ipykernel)",
   "language": "python",
   "name": "python3"
  },
  "language_info": {
   "codemirror_mode": {
    "name": "ipython",
    "version": 3
   },
   "file_extension": ".py",
   "mimetype": "text/x-python",
   "name": "python",
   "nbconvert_exporter": "python",
   "pygments_lexer": "ipython3",
   "version": "3.11.2"
  }
 },
 "nbformat": 4,
 "nbformat_minor": 5
}
